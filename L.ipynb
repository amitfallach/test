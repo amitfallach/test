{
 "cells": [
  {
   "cell_type": "markdown",
   "metadata": {},
   "source": [
    "|students:|\n",
    "|-----------------|\n",
    "|  Amit Fallach 318510070|\n",
    "|Karin Lev Sofi 206682577|\n",
    "|Ronen Kurman 315810176|\n",
    "|Linoy Madalsy 206073124|"
   ]
  },
  {
   "cell_type": "code",
   "execution_count": 1,
   "metadata": {},
   "outputs": [],
   "source": [
    "import pandas as pd\n",
    "import numpy as np\n",
    "import matplotlib.pyplot as plt\n",
    "import seaborn as sns\n",
    "import sklearn as sk\n",
    "from datetime import date"
   ]
  },
  {
   "cell_type": "markdown",
   "metadata": {},
   "source": [
    "Called Data Prime from GitHub"
   ]
  },
  {
   "cell_type": "code",
   "execution_count": 2,
   "metadata": {},
   "outputs": [
    {
     "data": {
      "text/html": [
       "<div>\n",
       "<style scoped>\n",
       "    .dataframe tbody tr th:only-of-type {\n",
       "        vertical-align: middle;\n",
       "    }\n",
       "\n",
       "    .dataframe tbody tr th {\n",
       "        vertical-align: top;\n",
       "    }\n",
       "\n",
       "    .dataframe thead th {\n",
       "        text-align: right;\n",
       "    }\n",
       "</style>\n",
       "<table border=\"1\" class=\"dataframe\">\n",
       "  <thead>\n",
       "    <tr style=\"text-align: right;\">\n",
       "      <th></th>\n",
       "      <th>imdb_id</th>\n",
       "      <th>title</th>\n",
       "      <th>plot</th>\n",
       "      <th>type</th>\n",
       "      <th>rated</th>\n",
       "      <th>year</th>\n",
       "      <th>released_at</th>\n",
       "      <th>added_at</th>\n",
       "      <th>runtime</th>\n",
       "      <th>genre</th>\n",
       "      <th>director</th>\n",
       "      <th>writer</th>\n",
       "      <th>actors</th>\n",
       "      <th>language</th>\n",
       "      <th>country</th>\n",
       "      <th>awards</th>\n",
       "      <th>metascore</th>\n",
       "      <th>imdb_rating</th>\n",
       "      <th>imdb_votes</th>\n",
       "    </tr>\n",
       "  </thead>\n",
       "  <tbody>\n",
       "    <tr>\n",
       "      <th>987</th>\n",
       "      <td>tt3544734</td>\n",
       "      <td>Zapped</td>\n",
       "      <td>When Zoey's mom remarries, Zoey finds it hard ...</td>\n",
       "      <td>movie</td>\n",
       "      <td>TV-G</td>\n",
       "      <td>2014</td>\n",
       "      <td>23 Jun 2014</td>\n",
       "      <td>November 12, 2019</td>\n",
       "      <td>102 min</td>\n",
       "      <td>Comedy, Family, Fantasy</td>\n",
       "      <td>Peter DeLuise</td>\n",
       "      <td>Leslie Margolis (based on the novel \"Boys Are ...</td>\n",
       "      <td>Zendaya, Chanelle Peloso, Spencer Boldman, Emi...</td>\n",
       "      <td>English</td>\n",
       "      <td>Canada, USA</td>\n",
       "      <td>5 wins &amp; 1 nomination.</td>\n",
       "      <td>NaN</td>\n",
       "      <td>5.1</td>\n",
       "      <td>3,750</td>\n",
       "    </tr>\n",
       "    <tr>\n",
       "      <th>988</th>\n",
       "      <td>tt0186726</td>\n",
       "      <td>Zenon: Girl of the 21st Century</td>\n",
       "      <td>An inquisitive teenager pries into suspected d...</td>\n",
       "      <td>movie</td>\n",
       "      <td>TV-G</td>\n",
       "      <td>1999</td>\n",
       "      <td>23 Jan 1999</td>\n",
       "      <td>November 12, 2019</td>\n",
       "      <td>97 min</td>\n",
       "      <td>Adventure, Comedy, Family, Sci-Fi</td>\n",
       "      <td>Kenneth Johnson</td>\n",
       "      <td>Marilyn Sadler (book), Roger Bollen (book), St...</td>\n",
       "      <td>Kirsten Storms, Raven-Symoné, Stuart Pankin, H...</td>\n",
       "      <td>English</td>\n",
       "      <td>USA</td>\n",
       "      <td>2 nominations.</td>\n",
       "      <td>NaN</td>\n",
       "      <td>6.4</td>\n",
       "      <td>6,378</td>\n",
       "    </tr>\n",
       "    <tr>\n",
       "      <th>989</th>\n",
       "      <td>tt0271271</td>\n",
       "      <td>Zenon: The Zequel</td>\n",
       "      <td>A mischievous fifteen-year-old girl living on ...</td>\n",
       "      <td>movie</td>\n",
       "      <td>TV-G</td>\n",
       "      <td>2001</td>\n",
       "      <td>12 Jan 2001</td>\n",
       "      <td>November 12, 2019</td>\n",
       "      <td>100 min</td>\n",
       "      <td>Comedy, Family, Adventure, Sci-Fi</td>\n",
       "      <td>Manny Coto</td>\n",
       "      <td>Marilyn Sadler (book), Roger Bollen (book), St...</td>\n",
       "      <td>Kirsten Storms, Shadia Simmons, Lauren Maltby,...</td>\n",
       "      <td>English</td>\n",
       "      <td>USA, New Zealand</td>\n",
       "      <td>1 nomination.</td>\n",
       "      <td>NaN</td>\n",
       "      <td>5.9</td>\n",
       "      <td>3,318</td>\n",
       "    </tr>\n",
       "    <tr>\n",
       "      <th>990</th>\n",
       "      <td>tt0379060</td>\n",
       "      <td>Zenon: Z3</td>\n",
       "      <td>The heroine sets out to win an important compe...</td>\n",
       "      <td>movie</td>\n",
       "      <td>TV-G</td>\n",
       "      <td>2004</td>\n",
       "      <td>11 Jun 2004</td>\n",
       "      <td>November 12, 2019</td>\n",
       "      <td>81 min</td>\n",
       "      <td>Adventure, Comedy, Family, Sci-Fi</td>\n",
       "      <td>Steve Rash</td>\n",
       "      <td>Marilyn Sadler (character from the book \"Zenon...</td>\n",
       "      <td>Kirsten Storms, Lauren Maltby, Alyson Morgan, ...</td>\n",
       "      <td>English</td>\n",
       "      <td>USA</td>\n",
       "      <td>NaN</td>\n",
       "      <td>NaN</td>\n",
       "      <td>5.5</td>\n",
       "      <td>2,339</td>\n",
       "    </tr>\n",
       "    <tr>\n",
       "      <th>991</th>\n",
       "      <td>tt2948356</td>\n",
       "      <td>Zootopia</td>\n",
       "      <td>In a city of anthropomorphic animals, a rookie...</td>\n",
       "      <td>movie</td>\n",
       "      <td>PG</td>\n",
       "      <td>2016</td>\n",
       "      <td>04 Mar 2016</td>\n",
       "      <td>November 12, 2019</td>\n",
       "      <td>108 min</td>\n",
       "      <td>Animation, Adventure, Comedy, Crime, Family, M...</td>\n",
       "      <td>Byron Howard, Rich Moore, Jared Bush(co-director)</td>\n",
       "      <td>Byron Howard (story by), Rich Moore (story by)...</td>\n",
       "      <td>Ginnifer Goodwin, Jason Bateman, Idris Elba, J...</td>\n",
       "      <td>English</td>\n",
       "      <td>USA</td>\n",
       "      <td>Won 1 Oscar. Another 46 wins &amp; 71 nominations.</td>\n",
       "      <td>78.0</td>\n",
       "      <td>8.0</td>\n",
       "      <td>410,437</td>\n",
       "    </tr>\n",
       "  </tbody>\n",
       "</table>\n",
       "</div>"
      ],
      "text/plain": [
       "       imdb_id                            title  \\\n",
       "987  tt3544734                           Zapped   \n",
       "988  tt0186726  Zenon: Girl of the 21st Century   \n",
       "989  tt0271271                Zenon: The Zequel   \n",
       "990  tt0379060                        Zenon: Z3   \n",
       "991  tt2948356                         Zootopia   \n",
       "\n",
       "                                                  plot   type rated  year  \\\n",
       "987  When Zoey's mom remarries, Zoey finds it hard ...  movie  TV-G  2014   \n",
       "988  An inquisitive teenager pries into suspected d...  movie  TV-G  1999   \n",
       "989  A mischievous fifteen-year-old girl living on ...  movie  TV-G  2001   \n",
       "990  The heroine sets out to win an important compe...  movie  TV-G  2004   \n",
       "991  In a city of anthropomorphic animals, a rookie...  movie    PG  2016   \n",
       "\n",
       "     released_at           added_at  runtime  \\\n",
       "987  23 Jun 2014  November 12, 2019  102 min   \n",
       "988  23 Jan 1999  November 12, 2019   97 min   \n",
       "989  12 Jan 2001  November 12, 2019  100 min   \n",
       "990  11 Jun 2004  November 12, 2019   81 min   \n",
       "991  04 Mar 2016  November 12, 2019  108 min   \n",
       "\n",
       "                                                 genre  \\\n",
       "987                            Comedy, Family, Fantasy   \n",
       "988                  Adventure, Comedy, Family, Sci-Fi   \n",
       "989                  Comedy, Family, Adventure, Sci-Fi   \n",
       "990                  Adventure, Comedy, Family, Sci-Fi   \n",
       "991  Animation, Adventure, Comedy, Crime, Family, M...   \n",
       "\n",
       "                                              director  \\\n",
       "987                                      Peter DeLuise   \n",
       "988                                    Kenneth Johnson   \n",
       "989                                         Manny Coto   \n",
       "990                                         Steve Rash   \n",
       "991  Byron Howard, Rich Moore, Jared Bush(co-director)   \n",
       "\n",
       "                                                writer  \\\n",
       "987  Leslie Margolis (based on the novel \"Boys Are ...   \n",
       "988  Marilyn Sadler (book), Roger Bollen (book), St...   \n",
       "989  Marilyn Sadler (book), Roger Bollen (book), St...   \n",
       "990  Marilyn Sadler (character from the book \"Zenon...   \n",
       "991  Byron Howard (story by), Rich Moore (story by)...   \n",
       "\n",
       "                                                actors language  \\\n",
       "987  Zendaya, Chanelle Peloso, Spencer Boldman, Emi...  English   \n",
       "988  Kirsten Storms, Raven-Symoné, Stuart Pankin, H...  English   \n",
       "989  Kirsten Storms, Shadia Simmons, Lauren Maltby,...  English   \n",
       "990  Kirsten Storms, Lauren Maltby, Alyson Morgan, ...  English   \n",
       "991  Ginnifer Goodwin, Jason Bateman, Idris Elba, J...  English   \n",
       "\n",
       "              country                                          awards  \\\n",
       "987       Canada, USA                          5 wins & 1 nomination.   \n",
       "988               USA                                  2 nominations.   \n",
       "989  USA, New Zealand                                   1 nomination.   \n",
       "990               USA                                             NaN   \n",
       "991               USA  Won 1 Oscar. Another 46 wins & 71 nominations.   \n",
       "\n",
       "     metascore  imdb_rating imdb_votes  \n",
       "987        NaN          5.1      3,750  \n",
       "988        NaN          6.4      6,378  \n",
       "989        NaN          5.9      3,318  \n",
       "990        NaN          5.5      2,339  \n",
       "991       78.0          8.0    410,437  "
      ]
     },
     "execution_count": 2,
     "metadata": {},
     "output_type": "execute_result"
    }
   ],
   "source": [
    "url = 'https://raw.githubusercontent.com/amitfallach/disney-plus-shows/main/disney_plus_shows.csv'\n",
    "disney_df= pd.read_csv(url)\n",
    "disney_df = disney_df.copy() \n",
    "disney_df.tail()"
   ]
  },
  {
   "cell_type": "markdown",
   "metadata": {},
   "source": [
    "### Wrangling data , missing values and fix columns."
   ]
  },
  {
   "cell_type": "markdown",
   "metadata": {},
   "source": [
    "##### We will cut all the rows that have more than 8 missing values"
   ]
  },
  {
   "cell_type": "code",
   "execution_count": 3,
   "metadata": {},
   "outputs": [
    {
     "data": {
      "text/plain": [
       "(875, 19)"
      ]
     },
     "execution_count": 3,
     "metadata": {},
     "output_type": "execute_result"
    }
   ],
   "source": [
    "disney_df = disney_df[disney_df.isnull().sum(axis=1) < 8].reset_index(drop=True)\n",
    "disney_df.shape"
   ]
  },
  {
   "cell_type": "markdown",
   "metadata": {},
   "source": [
    "##### we look at the types of columns and how much NAN types each have to see if we want to change them"
   ]
  },
  {
   "cell_type": "code",
   "execution_count": 4,
   "metadata": {},
   "outputs": [
    {
     "data": {
      "text/plain": [
       "imdb_id         object\n",
       "title           object\n",
       "plot            object\n",
       "type            object\n",
       "rated           object\n",
       "year            object\n",
       "released_at     object\n",
       "added_at        object\n",
       "runtime         object\n",
       "genre           object\n",
       "director        object\n",
       "writer          object\n",
       "actors          object\n",
       "language        object\n",
       "country         object\n",
       "awards          object\n",
       "metascore      float64\n",
       "imdb_rating    float64\n",
       "imdb_votes      object\n",
       "dtype: object"
      ]
     },
     "execution_count": 4,
     "metadata": {},
     "output_type": "execute_result"
    }
   ],
   "source": [
    "disney_df.dtypes"
   ]
  },
  {
   "cell_type": "code",
   "execution_count": 5,
   "metadata": {},
   "outputs": [
    {
     "data": {
      "text/plain": [
       "imdb_id          0\n",
       "title            0\n",
       "type             0\n",
       "added_at         0\n",
       "year             0\n",
       "imdb_rating      2\n",
       "imdb_votes       2\n",
       "genre            3\n",
       "actors          15\n",
       "country         15\n",
       "released_at     15\n",
       "plot            18\n",
       "language        18\n",
       "runtime         42\n",
       "rated          133\n",
       "writer         135\n",
       "director       189\n",
       "awards         319\n",
       "metascore      583\n",
       "dtype: int64"
      ]
     },
     "execution_count": 5,
     "metadata": {},
     "output_type": "execute_result"
    }
   ],
   "source": [
    "disney_df.isnull().sum().sort_values()"
   ]
  },
  {
   "cell_type": "markdown",
   "metadata": {},
   "source": [
    "##### We like to make the \"Runtime\"  column to an integer so that we can compare and use its values later, and we will add the measurement units to the \"Runtime\" column name.\n",
    "\n",
    "##### According to the data frame we can be noted that the \"Runtime\" column describes the length of the episode / movie , so We fill the NAN values in the average time per episode and per movie by the DF."
   ]
  },
  {
   "cell_type": "code",
   "execution_count": 6,
   "metadata": {},
   "outputs": [],
   "source": [
    "pd.options.mode.chained_assignment = None\n",
    "disney_df['runtime'] = disney_df['runtime'].str.replace('min', '')\n",
    "disney_df['runtime'] = disney_df['runtime'].str.replace('1 h', '')\n",
    "disney_df = disney_df.rename(columns= {'runtime':'runtime per min'})\n",
    "\n",
    "temp_series = disney_df[disney_df['type']==\"series\"]\n",
    "temp_movie = disney_df[disney_df['type']==\"movie\"]\n",
    "\n",
    "#we fill the NAN values with 0 so we can convert the column to intiger and make average\n",
    "\n",
    "temp_series['runtime per min'] = temp_series['runtime per min'].fillna(\"0\")\n",
    "temp_movie['runtime per min'] = temp_movie['runtime per min'].fillna(\"0\")\n",
    "temp_series = temp_series.astype({\"runtime per min\":int})\n",
    "temp_movie = temp_movie.astype({\"runtime per min\":int})\n",
    "\n",
    "#we replace the 0 value by the average.\n",
    "\n",
    "temp_series['runtime per min'] = temp_series['runtime per min'].replace(0,(temp_series['runtime per min'].sum()/temp_series['runtime per min'].count()))\n",
    "temp_movie['runtime per min'] = temp_movie['runtime per min'].replace(0,(temp_movie['runtime per min'].sum()/temp_movie['runtime per min'].count()))\n",
    "\n",
    "disney_df = pd.concat([temp_series,temp_movie])\n",
    "disney_df = disney_df.astype({\"runtime per min\":int})\n",
    "disney_df = disney_df.reset_index(drop = True)"
   ]
  },
  {
   "cell_type": "markdown",
   "metadata": {},
   "source": [
    "##### We like to make the \"imdb_votes\" column to an integer and delete the NAN values from \"imdb_rating\" so that we can compare and use its values later.\n",
    "\n",
    "##### There are 2 rows that have NAN values in the \"imdb_rating\" and \"imdb_votes\" columns, we will delete them because they have a lot of NAN values ."
   ]
  },
  {
   "cell_type": "code",
   "execution_count": 7,
   "metadata": {},
   "outputs": [],
   "source": [
    "disney_df = disney_df[disney_df[\"imdb_rating\"].notna()]\n",
    "disney_df[\"imdb_votes\"] = disney_df[\"imdb_votes\"].str.replace(',', '')\n",
    "disney_df = disney_df.astype({\"imdb_votes\":int}).reset_index(drop = True)\n",
    "#872 rows"
   ]
  },
  {
   "cell_type": "markdown",
   "metadata": {},
   "source": [
    "##### convert the columns 'released_at' and \"added_at\" to date time."
   ]
  },
  {
   "cell_type": "code",
   "execution_count": 8,
   "metadata": {},
   "outputs": [],
   "source": [
    "disney_df['released_at'] = pd.to_datetime(disney_df['released_at'])\n",
    "disney_df['added_at'] = pd.to_datetime(disney_df['added_at'])"
   ]
  },
  {
   "cell_type": "markdown",
   "metadata": {},
   "source": [
    "##### The \"genre\" column has 3 NAN values and in that rows there are many more NAN values so we drop these 3 rows."
   ]
  },
  {
   "cell_type": "code",
   "execution_count": 9,
   "metadata": {},
   "outputs": [],
   "source": [
    "disney_df = disney_df.dropna(subset = [\"genre\"]).reset_index(drop = True)"
   ]
  },
  {
   "cell_type": "markdown",
   "metadata": {},
   "source": [
    "##### In the \"language\" column we fill the NAN values with \"English\" becuse it defined as the language of Disney and the Disney Channel [link to the data source](https://he.wikipedia.org/wiki/%D7%A2%D7%A8%D7%95%D7%A5_%D7%93%D7%99%D7%A1%D7%A0%D7%99)"
   ]
  },
  {
   "cell_type": "code",
   "execution_count": 10,
   "metadata": {},
   "outputs": [],
   "source": [
    "disney_df['language'].fillna(\"English\",inplace = True)"
   ]
  },
  {
   "cell_type": "markdown",
   "metadata": {},
   "source": [
    "##### We change the NAN values in the country column to \"USA\" because Disney is an American company and most of its series are made in USA. [link to the data source](https://he.wikipedia.org/wiki/%D7%A2%D7%A8%D7%95%D7%A5_%D7%93%D7%99%D7%A1%D7%A0%D7%99)"
   ]
  },
  {
   "cell_type": "code",
   "execution_count": 11,
   "metadata": {},
   "outputs": [],
   "source": [
    "disney_df['country'].fillna(\"USA\",inplace = True)"
   ]
  },
  {
   "cell_type": "markdown",
   "metadata": {},
   "source": [
    "##### The column \"rated\" describes the content classification by age and has a lot of NAN values, we could not choose for each value specific to which classification to associate it so we chose to classify the NAN values in this column as suitable for all ages  [link to the data source](https://en.wikipedia.org/wiki/Motion_Picture_Association#Film_rating_system)"
   ]
  },
  {
   "cell_type": "code",
   "execution_count": 12,
   "metadata": {},
   "outputs": [],
   "source": [
    "disney_df['rated'].fillna(\"G\",inplace = True)"
   ]
  },
  {
   "cell_type": "markdown",
   "metadata": {},
   "source": [
    "##### In our data frame the column \"year\" represents for serieses the range in which they broadcast, we will split the column \"year\" to columns 'aired_until_year' and 'broadcast_from_year' so that we can make a prediction later using the broadcast time."
   ]
  },
  {
   "cell_type": "code",
   "execution_count": 13,
   "metadata": {},
   "outputs": [],
   "source": [
    "#loop that split the column year to 2 colmuns\n",
    "for i in disney_df['year']:\n",
    "    disney_df['broadcast_from_year'] = disney_df['year'].str[0:4]\n",
    "    disney_df['aired_until_year'] = disney_df['year'].str[5:9]\n",
    "\n",
    "#convert the colmuns to datetime\n",
    "disney_df['broadcast_from_year'] = pd.to_datetime(disney_df.broadcast_from_year)\n",
    "disney_df['aired_until_year'] = pd.to_datetime(disney_df.aired_until_year)\n",
    "\n",
    "#represent the year\n",
    "disney_df['broadcast_from_year'] = pd.DatetimeIndex(disney_df.broadcast_from_year).year\n",
    "disney_df['aired_until_year'] = pd.DatetimeIndex(disney_df.aired_until_year).year\n",
    "\n",
    "#fill the nan values for serieses with current year\n",
    "nowdate = date.today().year\n",
    "temp_series = disney_df[disney_df['type']==\"series\"]\n",
    "temp_movie = disney_df[disney_df['type']==\"movie\"]\n",
    "temp_series['aired_until_year'] = temp_series['aired_until_year'].fillna(nowdate)\n",
    "disney_df = pd.concat([temp_series,temp_movie]).reset_index(drop = True)\n",
    "\n",
    "#delete the column \"year\"\n",
    "disney_df = disney_df.drop('year', axis=1)"
   ]
  },
  {
   "cell_type": "markdown",
   "metadata": {},
   "source": [
    "##### We will fill the NAN values at the column \"released_at\" according to the values of the column \"added_at\" because there is no way to know when they started broadcasting, and according to the other values at the data frame we can see that the dates in the value almost the same."
   ]
  },
  {
   "cell_type": "code",
   "execution_count": 14,
   "metadata": {},
   "outputs": [],
   "source": [
    "disney_df[\"released_at\"] = disney_df[\"released_at\"].fillna(disney_df[\"added_at\"])"
   ]
  },
  {
   "cell_type": "code",
   "execution_count": 15,
   "metadata": {},
   "outputs": [
    {
     "data": {
      "text/plain": [
       "imdb_id                  0\n",
       "title                    0\n",
       "type                     0\n",
       "rated                    0\n",
       "released_at              0\n",
       "added_at                 0\n",
       "runtime per min          0\n",
       "genre                    0\n",
       "broadcast_from_year      0\n",
       "language                 0\n",
       "country                  0\n",
       "imdb_votes               0\n",
       "imdb_rating              0\n",
       "plot                    13\n",
       "actors                  13\n",
       "writer                 133\n",
       "director               187\n",
       "awards                 298\n",
       "metascore              560\n",
       "aired_until_year       671\n",
       "dtype: int64"
      ]
     },
     "execution_count": 15,
     "metadata": {},
     "output_type": "execute_result"
    }
   ],
   "source": [
    "disney_df.isnull().sum().sort_values()"
   ]
  },
  {
   "cell_type": "code",
   "execution_count": 16,
   "metadata": {},
   "outputs": [
    {
     "data": {
      "text/plain": [
       "imdb_id                        object\n",
       "title                          object\n",
       "plot                           object\n",
       "type                           object\n",
       "rated                          object\n",
       "released_at            datetime64[ns]\n",
       "added_at               datetime64[ns]\n",
       "runtime per min                 int32\n",
       "genre                          object\n",
       "director                       object\n",
       "writer                         object\n",
       "actors                         object\n",
       "language                       object\n",
       "country                        object\n",
       "awards                         object\n",
       "metascore                     float64\n",
       "imdb_rating                   float64\n",
       "imdb_votes                      int32\n",
       "broadcast_from_year             int64\n",
       "aired_until_year              float64\n",
       "dtype: object"
      ]
     },
     "execution_count": 16,
     "metadata": {},
     "output_type": "execute_result"
    }
   ],
   "source": [
    "disney_df.dtypes"
   ]
  },
  {
   "cell_type": "markdown",
   "metadata": {},
   "source": [
    "## Noisy data - outliers"
   ]
  },
  {
   "cell_type": "markdown",
   "metadata": {},
   "source": [
    "##### after we finish to clean the df we want to split the data frame for movies separately and series separately so we can measure each one in relation to itself, and then choose from what part we want to learn."
   ]
  },
  {
   "cell_type": "code",
   "execution_count": 17,
   "metadata": {},
   "outputs": [
    {
     "data": {
      "text/plain": [
       "<matplotlib.axes._subplots.AxesSubplot at 0x2b640972490>"
      ]
     },
     "execution_count": 17,
     "metadata": {},
     "output_type": "execute_result"
    },
    {
     "data": {
      "image/png": "[encoded data removed]",
      "text/plain": [
       "<Figure size 432x288 with 1 Axes>"
      ]
     },
     "metadata": {},
     "output_type": "display_data"
    }
   ],
   "source": [
    "series_df = disney_df[disney_df['type']==\"series\"].reset_index(drop = True)\n",
    "movie_df = disney_df[disney_df['type']==\"movie\"].reset_index(drop = True)\n",
    "disney_df['type'].value_counts().plot.pie(autopct='%1.1f%%')"
   ]
  },
  {
   "cell_type": "markdown",
   "metadata": {},
   "source": [
    "### Findings:\n",
    "\n",
    "#### we chose to work on the part of the movies from the df because it takes up more percents than the serieses."
   ]
  },
  {
   "cell_type": "markdown",
   "metadata": {},
   "source": [
    "##### We take the numeric columns and look for outlires from the movie_df ."
   ]
  },
  {
   "cell_type": "code",
   "execution_count": 18,
   "metadata": {},
   "outputs": [
    {
     "data": {
      "image/png": "[encoded data removed]",
      "text/plain": [
       "<Figure size 864x1008 with 16 Axes>"
      ]
     },
     "metadata": {
      "needs_background": "light"
     },
     "output_type": "display_data"
    }
   ],
   "source": [
    "movienumcols = movie_df.drop(columns=[\"title\",\"released_at\",\"added_at\",\"imdb_id\",\"plot\",'type', 'genre', 'writer', 'actors', 'director', 'language', 'country', 'awards',\"metascore\",\"rated\",\"aired_until_year\"])\n",
    "\n",
    "movienumcols = movienumcols.select_dtypes(include=np.number)\n",
    "\n",
    "movienumcols.plot(subplots=True, layout=(4,4), kind=\"box\", figsize=(12,14), patch_artist=True, )\n",
    "plt.subplots_adjust(wspace=0.5);"
   ]
  },
  {
   "cell_type": "markdown",
   "metadata": {},
   "source": [
    "##### We can see that the boxplot of the column 'imdb_votes' does not display the full values of the column, so we will display the full values."
   ]
  },
  {
   "cell_type": "code",
   "execution_count": 19,
   "metadata": {},
   "outputs": [
    {
     "data": {
      "text/plain": [
       "<matplotlib.axes._subplots.AxesSubplot at 0x2b640917f40>"
      ]
     },
     "execution_count": 19,
     "metadata": {},
     "output_type": "execute_result"
    },
    {
     "data": {
      "image/png": "[encoded data removed]",
      "text/plain": [
       "<Figure size 216x288 with 1 Axes>"
      ]
     },
     "metadata": {
      "needs_background": "light"
     },
     "output_type": "display_data"
    }
   ],
   "source": [
    "plt.ticklabel_format(style='plain')\n",
    "\n",
    "movienumcols['imdb_votes'].plot(kind='box', figsize=(3,4), patch_artist=True)"
   ]
  },
  {
   "cell_type": "markdown",
   "metadata": {},
   "source": [
    "### Findings: \n",
    "\n",
    "#### all features contain outliers (see boxplots), but all of the outliers are relevant values for future findings."
   ]
  },
  {
   "cell_type": "markdown",
   "metadata": {},
   "source": [
    "## Understand the data"
   ]
  },
  {
   "cell_type": "markdown",
   "metadata": {},
   "source": [
    "##### So far we have change the NAN values and sorted the columns by type, because we chose to work on the movies from the df then the column 'aired_until_year' is irrelevant so we will drop it."
   ]
  },
  {
   "cell_type": "code",
   "execution_count": 20,
   "metadata": {},
   "outputs": [],
   "source": [
    "movie_df = movie_df.drop(columns='aired_until_year')"
   ]
  },
  {
   "cell_type": "markdown",
   "metadata": {},
   "source": [
    "##### We convert the awards column to \"1\" for award winning movies and \"0\" for non award winning (NAN) movies so that we can measure in relation to this column."
   ]
  },
  {
   "cell_type": "code",
   "execution_count": 21,
   "metadata": {},
   "outputs": [],
   "source": [
    "movie_df[\"awards\"] = movie_df[\"awards\"].notnull().astype(\"int\")"
   ]
  },
  {
   "cell_type": "markdown",
   "metadata": {},
   "source": [
    "##### While studying our df we found that in 1985 the Disney company established the \"Disney Channel\" and opened up an option to broadcast and publish much more content than before, so we chose to show the movies that were only broadcast from 1985 and make our prediction about them. \n",
    "##### [link to the data source](https://d23.com/disney-history/) ( section 17 - 20 )."
   ]
  },
  {
   "cell_type": "code",
   "execution_count": 22,
   "metadata": {},
   "outputs": [],
   "source": [
    "movie_df = movie_df[movie_df[\"broadcast_from_year\"] >= 1985].reset_index(drop = True)\n",
    "# movie_df.tail(25)"
   ]
  },
  {
   "cell_type": "markdown",
   "metadata": {},
   "source": [
    "### Findings: \n",
    "\n",
    "#### we chose to work with movies aired at Disney from 1985."
   ]
  },
  {
   "cell_type": "markdown",
   "metadata": {},
   "source": [
    "## correlations - patterns in the data"
   ]
  },
  {
   "cell_type": "markdown",
   "metadata": {},
   "source": [
    "##### in order to find patterns in the data, we need to find correlations in the data\n",
    "\n",
    "##### To understand what type of correlation, plot the density value."
   ]
  },
  {
   "cell_type": "code",
   "execution_count": 23,
   "metadata": {},
   "outputs": [
    {
     "data": {
      "image/png": "[encoded data removed]",
      "text/plain": [
       "<Figure size 864x1008 with 9 Axes>"
      ]
     },
     "metadata": {
      "needs_background": "light"
     },
     "output_type": "display_data"
    }
   ],
   "source": [
    "features = ['metascore','imdb_rating','imdb_votes','runtime per min','broadcast_from_year',\"awards\" ]\n",
    "\n",
    "movie_df[features].plot.density(subplots=True, sharex=False, sharey=False, layout=(3, 3), figsize=(12,14))\n",
    "plt.subplots_adjust(wspace = 0.5);\n",
    "plt.legend(\"upper right\")\n",
    "plt.show()"
   ]
  },
  {
   "cell_type": "markdown",
   "metadata": {},
   "source": [
    "##### There is normal distribution in 'metascore' 'imdb_rating' columns , so we use \"pearson\" method to make correlation between them  ."
   ]
  },
  {
   "cell_type": "code",
   "execution_count": 24,
   "metadata": {},
   "outputs": [
    {
     "data": {
      "image/png": "[encoded data removed]",
      "text/plain": [
       "<Figure size 360x360 with 2 Axes>"
      ]
     },
     "metadata": {
      "needs_background": "light"
     },
     "output_type": "display_data"
    }
   ],
   "source": [
    "percor = pd.DataFrame(movie_df, columns = ['metascore','imdb_rating'])\n",
    "corrs = percor.corr(method = 'pearson')\n",
    "\n",
    "plt.figure(figsize=(5,5))\n",
    "sns.heatmap(corrs, cmap='coolwarm', center=0, annot=True);"
   ]
  },
  {
   "cell_type": "code",
   "execution_count": 37,
   "metadata": {},
   "outputs": [
    {
     "data": {
      "image/png": "[encoded data removed]",
      "text/plain": [
       "<Figure size 432x288 with 1 Axes>"
      ]
     },
     "metadata": {
      "needs_background": "light"
     },
     "output_type": "display_data"
    }
   ],
   "source": [
    "sns.regplot(x='imdb_rating', y=\"metascore\", data=percor);"
   ]
  },
  {
   "cell_type": "markdown",
   "metadata": {},
   "source": [
    "---\n",
    "># Conclusion 1:\n",
    ">\n",
    "> #### As the metascore goes up, so does the rating.\n",
    ">\n",
    ">\n",
    "---"
   ]
  },
  {
   "cell_type": "markdown",
   "metadata": {},
   "source": [
    "##### now we will do a correlation between the other columns according to \"kendall tau\" to see if we can draw more conclusions."
   ]
  },
  {
   "cell_type": "code",
   "execution_count": 26,
   "metadata": {},
   "outputs": [
    {
     "data": {
      "image/png": "[encoded data removed]",
      "text/plain": [
       "<Figure size 720x720 with 2 Axes>"
      ]
     },
     "metadata": {
      "needs_background": "light"
     },
     "output_type": "display_data"
    }
   ],
   "source": [
    "taucor = pd.DataFrame(movie_df, columns = ['imdb_votes','runtime per min','broadcast_from_year',\"awards\"])\n",
    "corrs = taucor.corr(method = 'kendall')\n",
    "\n",
    "plt.figure(figsize=(10,10))\n",
    "sns.heatmap(corrs, cmap='coolwarm', center=0, annot=True);"
   ]
  },
  {
   "cell_type": "markdown",
   "metadata": {},
   "source": [
    "### Findings:\n",
    "\n",
    "#### we can see from the correlation that there is a some connection between \"runtime per min\" ,\"awards\" and \"imdb_votes\" columns, therefore in the following steps we will try to see if there is a connection between these columns. "
   ]
  },
  {
   "cell_type": "markdown",
   "metadata": {},
   "source": [
    "## Categorical data"
   ]
  },
  {
   "cell_type": "markdown",
   "metadata": {},
   "source": [
    "##### We will check the columns 'runtime per min', 'imdb_votes', 'imdb_rating' by the 'awards' column and see if there is a relationship between them, according to the movies that received an award (present by 1 ) and those that did not ( present by 0 )."
   ]
  },
  {
   "cell_type": "code",
   "execution_count": 27,
   "metadata": {},
   "outputs": [
    {
     "data": {
      "text/html": [
       "<div>\n",
       "<style scoped>\n",
       "    .dataframe tbody tr th:only-of-type {\n",
       "        vertical-align: middle;\n",
       "    }\n",
       "\n",
       "    .dataframe tbody tr th {\n",
       "        vertical-align: top;\n",
       "    }\n",
       "\n",
       "    .dataframe thead th {\n",
       "        text-align: right;\n",
       "    }\n",
       "</style>\n",
       "<table border=\"1\" class=\"dataframe\">\n",
       "  <thead>\n",
       "    <tr style=\"text-align: right;\">\n",
       "      <th></th>\n",
       "      <th>imdb_rating</th>\n",
       "      <th>imdb_votes</th>\n",
       "      <th>runtime per min</th>\n",
       "    </tr>\n",
       "    <tr>\n",
       "      <th>awards</th>\n",
       "      <th></th>\n",
       "      <th></th>\n",
       "      <th></th>\n",
       "    </tr>\n",
       "  </thead>\n",
       "  <tbody>\n",
       "    <tr>\n",
       "      <th>0</th>\n",
       "      <td>6.296970</td>\n",
       "      <td>3350.825758</td>\n",
       "      <td>65.325758</td>\n",
       "    </tr>\n",
       "    <tr>\n",
       "      <th>1</th>\n",
       "      <td>6.471968</td>\n",
       "      <td>126331.797844</td>\n",
       "      <td>92.404313</td>\n",
       "    </tr>\n",
       "  </tbody>\n",
       "</table>\n",
       "</div>"
      ],
      "text/plain": [
       "        imdb_rating     imdb_votes  runtime per min\n",
       "awards                                             \n",
       "0          6.296970    3350.825758        65.325758\n",
       "1          6.471968  126331.797844        92.404313"
      ]
     },
     "execution_count": 27,
     "metadata": {},
     "output_type": "execute_result"
    }
   ],
   "source": [
    "catcol = movie_df.pivot_table(['runtime per min','imdb_votes','imdb_rating' ],'awards')\n",
    "catcol"
   ]
  },
  {
   "cell_type": "code",
   "execution_count": 28,
   "metadata": {},
   "outputs": [
    {
     "data": {
      "image/png": "[encoded data removed]",
      "text/plain": [
       "<Figure size 720x360 with 3 Axes>"
      ]
     },
     "metadata": {
      "needs_background": "light"
     },
     "output_type": "display_data"
    }
   ],
   "source": [
    "fig, axes = plt.subplots(1, 3, figsize=(10,5))\n",
    "\n",
    "sns.stripplot(ax = axes[0], x=\"awards\" , y=\"imdb_rating\", data=movie_df, jitter=0.1)          \n",
    "\n",
    "\n",
    "sns.stripplot(ax = axes[1], x=\"awards\", y=\"imdb_votes\", data=movie_df, jitter=0.1)\n",
    "\n",
    "\n",
    "sns.stripplot(ax = axes[2], x=\"awards\", y=\"runtime per min\", data=movie_df, jitter=0.1)\n",
    "\n",
    "plt.subplots_adjust(wspace = 0.5);\n",
    "\n",
    "plt.show()\n",
    "\n"
   ]
  },
  {
   "cell_type": "markdown",
   "metadata": {},
   "source": [
    "---\n",
    ">\n",
    "> ##### It can be seen that the average in the \"imdb_rating\" column of award-winning and non-award-winning movies is almost identical, on the other hand the average in the \"imdb_votes\" and \"runtime per min\" columns is much higher in favor of award-winning movies, from this comparison we can draw 3 main conclusions:\n",
    ">\n",
    "># Conclusion 1 :\n",
    "> #### There is no difference in the ratings of the movies that have received awards and the movies that have not received awards .\n",
    ">\n",
    "># Conclusion 2:\n",
    "> #### Award-winning movies has more votes than non-award-winning movies.\n",
    ">\n",
    "># Conclusion 3:\n",
    "> #### Award-winning movies are usually have long runtime than non-award-winning movies."
   ]
  },
  {
   "cell_type": "markdown",
   "metadata": {},
   "source": [
    "##### After the previous conclusions about the column \"runtime per min\" we would like to see for which age range the movies are the longest, so first of all we will convert the column \"rated\" to numerical column that we can measure."
   ]
  },
  {
   "cell_type": "code",
   "execution_count": 29,
   "metadata": {},
   "outputs": [
    {
     "data": {
      "text/html": [
       "<div>\n",
       "<style scoped>\n",
       "    .dataframe tbody tr th:only-of-type {\n",
       "        vertical-align: middle;\n",
       "    }\n",
       "\n",
       "    .dataframe tbody tr th {\n",
       "        vertical-align: top;\n",
       "    }\n",
       "\n",
       "    .dataframe thead th {\n",
       "        text-align: right;\n",
       "    }\n",
       "</style>\n",
       "<table border=\"1\" class=\"dataframe\">\n",
       "  <thead>\n",
       "    <tr style=\"text-align: right;\">\n",
       "      <th></th>\n",
       "      <th>imdb_id</th>\n",
       "      <th>title</th>\n",
       "      <th>plot</th>\n",
       "      <th>type</th>\n",
       "      <th>rated</th>\n",
       "      <th>released_at</th>\n",
       "      <th>added_at</th>\n",
       "      <th>runtime per min</th>\n",
       "      <th>genre</th>\n",
       "      <th>director</th>\n",
       "      <th>writer</th>\n",
       "      <th>actors</th>\n",
       "      <th>language</th>\n",
       "      <th>country</th>\n",
       "      <th>awards</th>\n",
       "      <th>metascore</th>\n",
       "      <th>imdb_rating</th>\n",
       "      <th>imdb_votes</th>\n",
       "      <th>broadcast_from_year</th>\n",
       "      <th>numrated</th>\n",
       "    </tr>\n",
       "  </thead>\n",
       "  <tbody>\n",
       "    <tr>\n",
       "      <th>0</th>\n",
       "      <td>tt0147800</td>\n",
       "      <td>10 Things I Hate About You</td>\n",
       "      <td>A pretty, popular teenager can't go out on a d...</td>\n",
       "      <td>movie</td>\n",
       "      <td>PG-13</td>\n",
       "      <td>1999-03-31</td>\n",
       "      <td>2019-11-12</td>\n",
       "      <td>97</td>\n",
       "      <td>Comedy, Drama, Romance</td>\n",
       "      <td>Gil Junger</td>\n",
       "      <td>Karen McCullah, Kirsten Smith</td>\n",
       "      <td>Heath Ledger, Julia Stiles, Joseph Gordon-Levi...</td>\n",
       "      <td>English, French</td>\n",
       "      <td>USA</td>\n",
       "      <td>1</td>\n",
       "      <td>70.0</td>\n",
       "      <td>7.3</td>\n",
       "      <td>283945</td>\n",
       "      <td>1999</td>\n",
       "      <td>3</td>\n",
       "    </tr>\n",
       "    <tr>\n",
       "      <th>1</th>\n",
       "      <td>tt0115433</td>\n",
       "      <td>101 Dalmatians</td>\n",
       "      <td>An evil high-fashion designer plots to steal D...</td>\n",
       "      <td>movie</td>\n",
       "      <td>G</td>\n",
       "      <td>1996-11-27</td>\n",
       "      <td>2019-11-12</td>\n",
       "      <td>103</td>\n",
       "      <td>Adventure, Comedy, Crime, Family</td>\n",
       "      <td>Stephen Herek</td>\n",
       "      <td>Dodie Smith (novel), John Hughes (screenplay)</td>\n",
       "      <td>Glenn Close, Jeff Daniels, Joely Richardson, J...</td>\n",
       "      <td>English, Spanish</td>\n",
       "      <td>USA, UK</td>\n",
       "      <td>1</td>\n",
       "      <td>49.0</td>\n",
       "      <td>5.7</td>\n",
       "      <td>97785</td>\n",
       "      <td>1996</td>\n",
       "      <td>0</td>\n",
       "    </tr>\n",
       "    <tr>\n",
       "      <th>2</th>\n",
       "      <td>tt0324941</td>\n",
       "      <td>101 Dalmatians 2: Patch's London Adventure</td>\n",
       "      <td>Being one of 101 takes its toll on Patch, who ...</td>\n",
       "      <td>movie</td>\n",
       "      <td>G</td>\n",
       "      <td>2003-01-21</td>\n",
       "      <td>2019-11-12</td>\n",
       "      <td>74</td>\n",
       "      <td>Animation, Adventure, Comedy, Family, Musical</td>\n",
       "      <td>Jim Kammerud, Brian Smith</td>\n",
       "      <td>Jim Kammerud (story), Dan Root (story), Garret...</td>\n",
       "      <td>Barry Bostwick, Jason Alexander, Martin Short,...</td>\n",
       "      <td>English</td>\n",
       "      <td>USA</td>\n",
       "      <td>1</td>\n",
       "      <td>NaN</td>\n",
       "      <td>5.8</td>\n",
       "      <td>7434</td>\n",
       "      <td>2002</td>\n",
       "      <td>0</td>\n",
       "    </tr>\n",
       "    <tr>\n",
       "      <th>3</th>\n",
       "      <td>tt0211181</td>\n",
       "      <td>102 Dalmatians</td>\n",
       "      <td>Cruella DeVil gets out of prison and goes afte...</td>\n",
       "      <td>movie</td>\n",
       "      <td>G</td>\n",
       "      <td>2000-11-22</td>\n",
       "      <td>2019-11-12</td>\n",
       "      <td>100</td>\n",
       "      <td>Adventure, Comedy, Family</td>\n",
       "      <td>Kevin Lima</td>\n",
       "      <td>Dodie Smith (novel), Kristen Buckley (story), ...</td>\n",
       "      <td>Glenn Close, Gérard Depardieu, Ioan Gruffudd, ...</td>\n",
       "      <td>English</td>\n",
       "      <td>USA, UK</td>\n",
       "      <td>1</td>\n",
       "      <td>35.0</td>\n",
       "      <td>4.9</td>\n",
       "      <td>33444</td>\n",
       "      <td>2000</td>\n",
       "      <td>0</td>\n",
       "    </tr>\n",
       "    <tr>\n",
       "      <th>4</th>\n",
       "      <td>tt1846442</td>\n",
       "      <td>12 Dates of Christmas</td>\n",
       "      <td>A story that follows Kate, a young woman who a...</td>\n",
       "      <td>movie</td>\n",
       "      <td>PG</td>\n",
       "      <td>2011-12-11</td>\n",
       "      <td>2019-11-12</td>\n",
       "      <td>90</td>\n",
       "      <td>Comedy, Fantasy, Romance</td>\n",
       "      <td>James Hayman</td>\n",
       "      <td>Aaron Mendelsohn (teleplay), Janet Brownell (t...</td>\n",
       "      <td>Laura Miyata, Vijay Mehta, Amy Smart, Audrey D...</td>\n",
       "      <td>English</td>\n",
       "      <td>USA</td>\n",
       "      <td>1</td>\n",
       "      <td>NaN</td>\n",
       "      <td>6.3</td>\n",
       "      <td>4933</td>\n",
       "      <td>2011</td>\n",
       "      <td>2</td>\n",
       "    </tr>\n",
       "  </tbody>\n",
       "</table>\n",
       "</div>"
      ],
      "text/plain": [
       "     imdb_id                                       title  \\\n",
       "0  tt0147800                  10 Things I Hate About You   \n",
       "1  tt0115433                              101 Dalmatians   \n",
       "2  tt0324941  101 Dalmatians 2: Patch's London Adventure   \n",
       "3  tt0211181                              102 Dalmatians   \n",
       "4  tt1846442                       12 Dates of Christmas   \n",
       "\n",
       "                                                plot   type  rated  \\\n",
       "0  A pretty, popular teenager can't go out on a d...  movie  PG-13   \n",
       "1  An evil high-fashion designer plots to steal D...  movie      G   \n",
       "2  Being one of 101 takes its toll on Patch, who ...  movie      G   \n",
       "3  Cruella DeVil gets out of prison and goes afte...  movie      G   \n",
       "4  A story that follows Kate, a young woman who a...  movie     PG   \n",
       "\n",
       "  released_at   added_at  runtime per min  \\\n",
       "0  1999-03-31 2019-11-12               97   \n",
       "1  1996-11-27 2019-11-12              103   \n",
       "2  2003-01-21 2019-11-12               74   \n",
       "3  2000-11-22 2019-11-12              100   \n",
       "4  2011-12-11 2019-11-12               90   \n",
       "\n",
       "                                           genre                   director  \\\n",
       "0                         Comedy, Drama, Romance                 Gil Junger   \n",
       "1               Adventure, Comedy, Crime, Family              Stephen Herek   \n",
       "2  Animation, Adventure, Comedy, Family, Musical  Jim Kammerud, Brian Smith   \n",
       "3                      Adventure, Comedy, Family                 Kevin Lima   \n",
       "4                       Comedy, Fantasy, Romance               James Hayman   \n",
       "\n",
       "                                              writer  \\\n",
       "0                      Karen McCullah, Kirsten Smith   \n",
       "1      Dodie Smith (novel), John Hughes (screenplay)   \n",
       "2  Jim Kammerud (story), Dan Root (story), Garret...   \n",
       "3  Dodie Smith (novel), Kristen Buckley (story), ...   \n",
       "4  Aaron Mendelsohn (teleplay), Janet Brownell (t...   \n",
       "\n",
       "                                              actors          language  \\\n",
       "0  Heath Ledger, Julia Stiles, Joseph Gordon-Levi...   English, French   \n",
       "1  Glenn Close, Jeff Daniels, Joely Richardson, J...  English, Spanish   \n",
       "2  Barry Bostwick, Jason Alexander, Martin Short,...           English   \n",
       "3  Glenn Close, Gérard Depardieu, Ioan Gruffudd, ...           English   \n",
       "4  Laura Miyata, Vijay Mehta, Amy Smart, Audrey D...           English   \n",
       "\n",
       "   country  awards  metascore  imdb_rating  imdb_votes  broadcast_from_year  \\\n",
       "0      USA       1       70.0          7.3      283945                 1999   \n",
       "1  USA, UK       1       49.0          5.7       97785                 1996   \n",
       "2      USA       1        NaN          5.8        7434                 2002   \n",
       "3  USA, UK       1       35.0          4.9       33444                 2000   \n",
       "4      USA       1        NaN          6.3        4933                 2011   \n",
       "\n",
       "   numrated  \n",
       "0         3  \n",
       "1         0  \n",
       "2         0  \n",
       "3         0  \n",
       "4         2  "
      ]
     },
     "execution_count": 29,
     "metadata": {},
     "output_type": "execute_result"
    }
   ],
   "source": [
    "movie_df['numrated'] =movie_df['rated'].astype('category').cat.codes\n",
    "movie_df.head()"
   ]
  },
  {
   "cell_type": "markdown",
   "metadata": {},
   "source": [
    "##### After we turn the \"rated\" column into a numeric column \"numrated\" we made a comparison between the average run time per minute for each age range."
   ]
  },
  {
   "cell_type": "code",
   "execution_count": 30,
   "metadata": {},
   "outputs": [
    {
     "data": {
      "text/html": [
       "<div>\n",
       "<style scoped>\n",
       "    .dataframe tbody tr th:only-of-type {\n",
       "        vertical-align: middle;\n",
       "    }\n",
       "\n",
       "    .dataframe tbody tr th {\n",
       "        vertical-align: top;\n",
       "    }\n",
       "\n",
       "    .dataframe thead th {\n",
       "        text-align: right;\n",
       "    }\n",
       "</style>\n",
       "<table border=\"1\" class=\"dataframe\">\n",
       "  <thead>\n",
       "    <tr style=\"text-align: right;\">\n",
       "      <th></th>\n",
       "      <th>runtime per min</th>\n",
       "    </tr>\n",
       "    <tr>\n",
       "      <th>numrated</th>\n",
       "      <th></th>\n",
       "    </tr>\n",
       "  </thead>\n",
       "  <tbody>\n",
       "    <tr>\n",
       "      <th>0</th>\n",
       "      <td>68.842640</td>\n",
       "    </tr>\n",
       "    <tr>\n",
       "      <th>1</th>\n",
       "      <td>69.545455</td>\n",
       "    </tr>\n",
       "    <tr>\n",
       "      <th>2</th>\n",
       "      <td>96.356164</td>\n",
       "    </tr>\n",
       "    <tr>\n",
       "      <th>3</th>\n",
       "      <td>128.594595</td>\n",
       "    </tr>\n",
       "    <tr>\n",
       "      <th>4</th>\n",
       "      <td>81.000000</td>\n",
       "    </tr>\n",
       "    <tr>\n",
       "      <th>5</th>\n",
       "      <td>90.206897</td>\n",
       "    </tr>\n",
       "    <tr>\n",
       "      <th>6</th>\n",
       "      <td>77.809524</td>\n",
       "    </tr>\n",
       "    <tr>\n",
       "      <th>7</th>\n",
       "      <td>55.000000</td>\n",
       "    </tr>\n",
       "    <tr>\n",
       "      <th>8</th>\n",
       "      <td>44.000000</td>\n",
       "    </tr>\n",
       "    <tr>\n",
       "      <th>9</th>\n",
       "      <td>90.000000</td>\n",
       "    </tr>\n",
       "  </tbody>\n",
       "</table>\n",
       "</div>"
      ],
      "text/plain": [
       "          runtime per min\n",
       "numrated                 \n",
       "0               68.842640\n",
       "1               69.545455\n",
       "2               96.356164\n",
       "3              128.594595\n",
       "4               81.000000\n",
       "5               90.206897\n",
       "6               77.809524\n",
       "7               55.000000\n",
       "8               44.000000\n",
       "9               90.000000"
      ]
     },
     "execution_count": 30,
     "metadata": {},
     "output_type": "execute_result"
    }
   ],
   "source": [
    "ratedcor = movie_df.pivot_table(['runtime per min'],\"numrated\")\n",
    "ratedcor\n"
   ]
  },
  {
   "cell_type": "code",
   "execution_count": 31,
   "metadata": {},
   "outputs": [
    {
     "data": {
      "image/png": "[encoded data removed]",
      "text/plain": [
       "<Figure size 432x288 with 1 Axes>"
      ]
     },
     "metadata": {
      "needs_background": "light"
     },
     "output_type": "display_data"
    }
   ],
   "source": [
    "sns.stripplot(x=\"numrated\" , y='runtime per min', data=movie_df)          \n",
    "plt.show()"
   ]
  },
  {
   "cell_type": "markdown",
   "metadata": {},
   "source": [
    "##### It can be clearly seen that the age range represented by \"3\" has the highest average running time per minute.\n",
    "##### now we want to show the category that presnted by the \"3\":"
   ]
  },
  {
   "cell_type": "code",
   "execution_count": 32,
   "metadata": {},
   "outputs": [
    {
     "data": {
      "text/plain": [
       "0    PG-13\n",
       "Name: rated, dtype: object"
      ]
     },
     "execution_count": 32,
     "metadata": {},
     "output_type": "execute_result"
    }
   ],
   "source": [
    "movie_df3 = movie_df.loc[movie_df.numrated == 3]\n",
    "rated = movie_df3.iloc[:1]\n",
    "rated[\"rated\"]"
   ]
  },
  {
   "cell_type": "markdown",
   "metadata": {},
   "source": [
    "##### The value PG-13 represent the catgory fot kids up to 13 years old and kids under 13 years old only by parental supervision. \n",
    "[link to the data source](https://en.wikipedia.org/wiki/Motion_Picture_Association#Film_rating_system)"
   ]
  },
  {
   "cell_type": "markdown",
   "metadata": {},
   "source": [
    "> # Conclusion 4:\n",
    "> #### According to PG-13 it can be seen that the films with the longest average running time per minute are films for children over the age of 13 and under the  age of 13 only under parental supervision."
   ]
  }
 ],
 "metadata": {
  "kernelspec": {
   "display_name": "Python 3",
   "language": "python",
   "name": "python3"
  },
  "language_info": {
   "codemirror_mode": {
    "name": "ipython",
    "version": 3
   },
   "file_extension": ".py",
   "mimetype": "text/x-python",
   "name": "python",
   "nbconvert_exporter": "python",
   "pygments_lexer": "ipython3",
   "version": "3.8.3"
  }
 },
 "nbformat": 4,
 "nbformat_minor": 4
}
