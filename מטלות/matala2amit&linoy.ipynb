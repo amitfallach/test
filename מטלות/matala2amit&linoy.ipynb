{
 "cells": [
  {
   "cell_type": "markdown",
   "metadata": {},
   "source": [
    "# Ex. 2\n",
    "Please fill-in your ID in the following cell, *No Names!*\n",
    "\n",
    "Then fill your names in the next two cells."
   ]
  },
  {
   "cell_type": "code",
   "execution_count": 6,
   "metadata": {},
   "outputs": [],
   "source": [
    "id1 = \"318510070\"\n",
    "id2 = \"206073124\"\n",
    "\n",
    "name_student_1 = \"Amit, Fallach\"\n",
    "name_student_2 = \"Linoy ,Medalsy \"\n",
    "\n",
    "import pandas as pd\n",
    "df = pd.DataFrame([id1,id2])\n",
    "# Uncomment in case two students are doing the assignment together\n",
    "df = pd.DataFrame([id1])\n",
    "#df = pd.DataFrame([id1,id2])\n",
    "df.to_clipboard(index=False,header=False)"
   ]
  },
  {
   "cell_type": "markdown",
   "metadata": {},
   "source": [
    "First of all, we will import the Data frame from the Internet"
   ]
  },
  {
   "cell_type": "code",
   "execution_count": 7,
   "metadata": {},
   "outputs": [],
   "source": [
    "fileO = 'https://raw.githubusercontent.com/owid/covid-19-data/master/public/data/vaccinations/vaccinations.csv'\n",
    "covidata = pd.read_csv(fileO)"
   ]
  },
  {
   "cell_type": "markdown",
   "metadata": {},
   "source": [
    "solution to question 1 : We have selected the country Argentina and in this section we will import its information from the Dataframe"
   ]
  },
  {
   "cell_type": "code",
   "execution_count": 8,
   "metadata": {},
   "outputs": [
    {
     "data": {
      "text/html": [
       "<div>\n",
       "<style scoped>\n",
       "    .dataframe tbody tr th:only-of-type {\n",
       "        vertical-align: middle;\n",
       "    }\n",
       "\n",
       "    .dataframe tbody tr th {\n",
       "        vertical-align: top;\n",
       "    }\n",
       "\n",
       "    .dataframe thead th {\n",
       "        text-align: right;\n",
       "    }\n",
       "</style>\n",
       "<table border=\"1\" class=\"dataframe\">\n",
       "  <thead>\n",
       "    <tr style=\"text-align: right;\">\n",
       "      <th></th>\n",
       "      <th>location</th>\n",
       "      <th>iso_code</th>\n",
       "      <th>date</th>\n",
       "      <th>total_vaccinations</th>\n",
       "      <th>people_vaccinated</th>\n",
       "      <th>people_fully_vaccinated</th>\n",
       "      <th>daily_vaccinations_raw</th>\n",
       "      <th>daily_vaccinations</th>\n",
       "      <th>total_vaccinations_per_hundred</th>\n",
       "      <th>people_vaccinated_per_hundred</th>\n",
       "      <th>people_fully_vaccinated_per_hundred</th>\n",
       "      <th>daily_vaccinations_per_million</th>\n",
       "    </tr>\n",
       "  </thead>\n",
       "  <tbody>\n",
       "    <tr>\n",
       "      <th>561</th>\n",
       "      <td>Argentina</td>\n",
       "      <td>ARG</td>\n",
       "      <td>2020-12-29</td>\n",
       "      <td>700.0</td>\n",
       "      <td>NaN</td>\n",
       "      <td>NaN</td>\n",
       "      <td>NaN</td>\n",
       "      <td>NaN</td>\n",
       "      <td>0.00</td>\n",
       "      <td>NaN</td>\n",
       "      <td>NaN</td>\n",
       "      <td>NaN</td>\n",
       "    </tr>\n",
       "    <tr>\n",
       "      <th>562</th>\n",
       "      <td>Argentina</td>\n",
       "      <td>ARG</td>\n",
       "      <td>2020-12-30</td>\n",
       "      <td>NaN</td>\n",
       "      <td>NaN</td>\n",
       "      <td>NaN</td>\n",
       "      <td>NaN</td>\n",
       "      <td>15656.0</td>\n",
       "      <td>NaN</td>\n",
       "      <td>NaN</td>\n",
       "      <td>NaN</td>\n",
       "      <td>346.0</td>\n",
       "    </tr>\n",
       "    <tr>\n",
       "      <th>563</th>\n",
       "      <td>Argentina</td>\n",
       "      <td>ARG</td>\n",
       "      <td>2020-12-31</td>\n",
       "      <td>32013.0</td>\n",
       "      <td>NaN</td>\n",
       "      <td>NaN</td>\n",
       "      <td>NaN</td>\n",
       "      <td>15656.0</td>\n",
       "      <td>0.07</td>\n",
       "      <td>NaN</td>\n",
       "      <td>NaN</td>\n",
       "      <td>346.0</td>\n",
       "    </tr>\n",
       "  </tbody>\n",
       "</table>\n",
       "</div>"
      ],
      "text/plain": [
       "      location iso_code        date  total_vaccinations  people_vaccinated  \\\n",
       "561  Argentina      ARG  2020-12-29               700.0                NaN   \n",
       "562  Argentina      ARG  2020-12-30                 NaN                NaN   \n",
       "563  Argentina      ARG  2020-12-31             32013.0                NaN   \n",
       "\n",
       "     people_fully_vaccinated  daily_vaccinations_raw  daily_vaccinations  \\\n",
       "561                      NaN                     NaN                 NaN   \n",
       "562                      NaN                     NaN             15656.0   \n",
       "563                      NaN                     NaN             15656.0   \n",
       "\n",
       "     total_vaccinations_per_hundred  people_vaccinated_per_hundred  \\\n",
       "561                            0.00                            NaN   \n",
       "562                             NaN                            NaN   \n",
       "563                            0.07                            NaN   \n",
       "\n",
       "     people_fully_vaccinated_per_hundred  daily_vaccinations_per_million  \n",
       "561                                  NaN                             NaN  \n",
       "562                                  NaN                           346.0  \n",
       "563                                  NaN                           346.0  "
      ]
     },
     "execution_count": 8,
     "metadata": {},
     "output_type": "execute_result"
    }
   ],
   "source": [
    "my_country = covidata[covidata['location'].str.contains('Argentina')] \n",
    "my_country.head(3)"
   ]
  },
  {
   "cell_type": "markdown",
   "metadata": {},
   "source": [
    "solution to question 2 : First we will summarize the missing data from each column, then we will present the column with the most missing values"
   ]
  },
  {
   "cell_type": "code",
   "execution_count": 9,
   "metadata": {},
   "outputs": [
    {
     "name": "stdout",
     "output_type": "stream",
     "text": [
      "The column with the maximum missing values is: daily_vaccinations_raw  \n",
      "the number of the missing values is: 31\n"
     ]
    }
   ],
   "source": [
    "a = my_country.isnull().sum()\n",
    "print (\"The column with the maximum missing values is:\",my_country.count().idxmin(),\" \\nthe number of the missing values is:\",a.max())\n"
   ]
  },
  {
   "cell_type": "markdown",
   "metadata": {},
   "source": [
    "solution to question 3 : We will check in the column \"daily_vaccinations\" which lines have missing values and print the lines"
   ]
  },
  {
   "cell_type": "code",
   "execution_count": 10,
   "metadata": {},
   "outputs": [
    {
     "data": {
      "text/html": [
       "<div>\n",
       "<style scoped>\n",
       "    .dataframe tbody tr th:only-of-type {\n",
       "        vertical-align: middle;\n",
       "    }\n",
       "\n",
       "    .dataframe tbody tr th {\n",
       "        vertical-align: top;\n",
       "    }\n",
       "\n",
       "    .dataframe thead th {\n",
       "        text-align: right;\n",
       "    }\n",
       "</style>\n",
       "<table border=\"1\" class=\"dataframe\">\n",
       "  <thead>\n",
       "    <tr style=\"text-align: right;\">\n",
       "      <th></th>\n",
       "      <th>location</th>\n",
       "      <th>iso_code</th>\n",
       "      <th>date</th>\n",
       "      <th>total_vaccinations</th>\n",
       "      <th>people_vaccinated</th>\n",
       "      <th>people_fully_vaccinated</th>\n",
       "      <th>daily_vaccinations_raw</th>\n",
       "      <th>daily_vaccinations</th>\n",
       "      <th>total_vaccinations_per_hundred</th>\n",
       "      <th>people_vaccinated_per_hundred</th>\n",
       "      <th>people_fully_vaccinated_per_hundred</th>\n",
       "      <th>daily_vaccinations_per_million</th>\n",
       "    </tr>\n",
       "  </thead>\n",
       "  <tbody>\n",
       "    <tr>\n",
       "      <th>561</th>\n",
       "      <td>Argentina</td>\n",
       "      <td>ARG</td>\n",
       "      <td>2020-12-29</td>\n",
       "      <td>700.0</td>\n",
       "      <td>NaN</td>\n",
       "      <td>NaN</td>\n",
       "      <td>NaN</td>\n",
       "      <td>NaN</td>\n",
       "      <td>0.0</td>\n",
       "      <td>NaN</td>\n",
       "      <td>NaN</td>\n",
       "      <td>NaN</td>\n",
       "    </tr>\n",
       "  </tbody>\n",
       "</table>\n",
       "</div>"
      ],
      "text/plain": [
       "      location iso_code        date  total_vaccinations  people_vaccinated  \\\n",
       "561  Argentina      ARG  2020-12-29               700.0                NaN   \n",
       "\n",
       "     people_fully_vaccinated  daily_vaccinations_raw  daily_vaccinations  \\\n",
       "561                      NaN                     NaN                 NaN   \n",
       "\n",
       "     total_vaccinations_per_hundred  people_vaccinated_per_hundred  \\\n",
       "561                             0.0                            NaN   \n",
       "\n",
       "     people_fully_vaccinated_per_hundred  daily_vaccinations_per_million  \n",
       "561                                  NaN                             NaN  "
      ]
     },
     "execution_count": 10,
     "metadata": {},
     "output_type": "execute_result"
    }
   ],
   "source": [
    "null_data = my_country[my_country[\"daily_vaccinations\"].isnull()]\n",
    "null_data"
   ]
  },
  {
   "cell_type": "markdown",
   "metadata": {},
   "source": [
    "solution to question 4 : We fill the missing value using fillna with the value \"0\" because the data frame measures the column \"Daily vaccinations\" every day in relation to the previous day so the value on the first day of vaccinations is empty because the day before no one was vaccinated."
   ]
  },
  {
   "cell_type": "code",
   "execution_count": 11,
   "metadata": {},
   "outputs": [
    {
     "data": {
      "text/html": [
       "<div>\n",
       "<style scoped>\n",
       "    .dataframe tbody tr th:only-of-type {\n",
       "        vertical-align: middle;\n",
       "    }\n",
       "\n",
       "    .dataframe tbody tr th {\n",
       "        vertical-align: top;\n",
       "    }\n",
       "\n",
       "    .dataframe thead th {\n",
       "        text-align: right;\n",
       "    }\n",
       "</style>\n",
       "<table border=\"1\" class=\"dataframe\">\n",
       "  <thead>\n",
       "    <tr style=\"text-align: right;\">\n",
       "      <th></th>\n",
       "      <th>location</th>\n",
       "      <th>iso_code</th>\n",
       "      <th>date</th>\n",
       "      <th>total_vaccinations</th>\n",
       "      <th>people_vaccinated</th>\n",
       "      <th>people_fully_vaccinated</th>\n",
       "      <th>daily_vaccinations_raw</th>\n",
       "      <th>daily_vaccinations</th>\n",
       "      <th>total_vaccinations_per_hundred</th>\n",
       "      <th>people_vaccinated_per_hundred</th>\n",
       "      <th>people_fully_vaccinated_per_hundred</th>\n",
       "      <th>daily_vaccinations_per_million</th>\n",
       "    </tr>\n",
       "  </thead>\n",
       "  <tbody>\n",
       "    <tr>\n",
       "      <th>561</th>\n",
       "      <td>Argentina</td>\n",
       "      <td>ARG</td>\n",
       "      <td>2020-12-29</td>\n",
       "      <td>700.0</td>\n",
       "      <td>NaN</td>\n",
       "      <td>NaN</td>\n",
       "      <td>NaN</td>\n",
       "      <td>0.0</td>\n",
       "      <td>0.00</td>\n",
       "      <td>NaN</td>\n",
       "      <td>NaN</td>\n",
       "      <td>NaN</td>\n",
       "    </tr>\n",
       "    <tr>\n",
       "      <th>562</th>\n",
       "      <td>Argentina</td>\n",
       "      <td>ARG</td>\n",
       "      <td>2020-12-30</td>\n",
       "      <td>NaN</td>\n",
       "      <td>NaN</td>\n",
       "      <td>NaN</td>\n",
       "      <td>NaN</td>\n",
       "      <td>15656.0</td>\n",
       "      <td>NaN</td>\n",
       "      <td>NaN</td>\n",
       "      <td>NaN</td>\n",
       "      <td>346.0</td>\n",
       "    </tr>\n",
       "    <tr>\n",
       "      <th>563</th>\n",
       "      <td>Argentina</td>\n",
       "      <td>ARG</td>\n",
       "      <td>2020-12-31</td>\n",
       "      <td>32013.0</td>\n",
       "      <td>NaN</td>\n",
       "      <td>NaN</td>\n",
       "      <td>NaN</td>\n",
       "      <td>15656.0</td>\n",
       "      <td>0.07</td>\n",
       "      <td>NaN</td>\n",
       "      <td>NaN</td>\n",
       "      <td>346.0</td>\n",
       "    </tr>\n",
       "    <tr>\n",
       "      <th>564</th>\n",
       "      <td>Argentina</td>\n",
       "      <td>ARG</td>\n",
       "      <td>2021-01-01</td>\n",
       "      <td>NaN</td>\n",
       "      <td>NaN</td>\n",
       "      <td>NaN</td>\n",
       "      <td>NaN</td>\n",
       "      <td>11070.0</td>\n",
       "      <td>NaN</td>\n",
       "      <td>NaN</td>\n",
       "      <td>NaN</td>\n",
       "      <td>245.0</td>\n",
       "    </tr>\n",
       "    <tr>\n",
       "      <th>565</th>\n",
       "      <td>Argentina</td>\n",
       "      <td>ARG</td>\n",
       "      <td>2021-01-02</td>\n",
       "      <td>NaN</td>\n",
       "      <td>NaN</td>\n",
       "      <td>NaN</td>\n",
       "      <td>NaN</td>\n",
       "      <td>8776.0</td>\n",
       "      <td>NaN</td>\n",
       "      <td>NaN</td>\n",
       "      <td>NaN</td>\n",
       "      <td>194.0</td>\n",
       "    </tr>\n",
       "    <tr>\n",
       "      <th>...</th>\n",
       "      <td>...</td>\n",
       "      <td>...</td>\n",
       "      <td>...</td>\n",
       "      <td>...</td>\n",
       "      <td>...</td>\n",
       "      <td>...</td>\n",
       "      <td>...</td>\n",
       "      <td>...</td>\n",
       "      <td>...</td>\n",
       "      <td>...</td>\n",
       "      <td>...</td>\n",
       "      <td>...</td>\n",
       "    </tr>\n",
       "    <tr>\n",
       "      <th>673</th>\n",
       "      <td>Argentina</td>\n",
       "      <td>ARG</td>\n",
       "      <td>2021-04-20</td>\n",
       "      <td>6433141.0</td>\n",
       "      <td>5620411.0</td>\n",
       "      <td>812730.0</td>\n",
       "      <td>98587.0</td>\n",
       "      <td>123038.0</td>\n",
       "      <td>14.23</td>\n",
       "      <td>12.44</td>\n",
       "      <td>1.80</td>\n",
       "      <td>2722.0</td>\n",
       "    </tr>\n",
       "    <tr>\n",
       "      <th>674</th>\n",
       "      <td>Argentina</td>\n",
       "      <td>ARG</td>\n",
       "      <td>2021-04-21</td>\n",
       "      <td>6550568.0</td>\n",
       "      <td>5722607.0</td>\n",
       "      <td>827961.0</td>\n",
       "      <td>117427.0</td>\n",
       "      <td>113664.0</td>\n",
       "      <td>14.49</td>\n",
       "      <td>12.66</td>\n",
       "      <td>1.83</td>\n",
       "      <td>2515.0</td>\n",
       "    </tr>\n",
       "    <tr>\n",
       "      <th>675</th>\n",
       "      <td>Argentina</td>\n",
       "      <td>ARG</td>\n",
       "      <td>2021-04-22</td>\n",
       "      <td>6693438.0</td>\n",
       "      <td>5851232.0</td>\n",
       "      <td>842206.0</td>\n",
       "      <td>142870.0</td>\n",
       "      <td>108327.0</td>\n",
       "      <td>14.81</td>\n",
       "      <td>12.95</td>\n",
       "      <td>1.86</td>\n",
       "      <td>2397.0</td>\n",
       "    </tr>\n",
       "    <tr>\n",
       "      <th>676</th>\n",
       "      <td>Argentina</td>\n",
       "      <td>ARG</td>\n",
       "      <td>2021-04-23</td>\n",
       "      <td>6807411.0</td>\n",
       "      <td>5955371.0</td>\n",
       "      <td>852040.0</td>\n",
       "      <td>113973.0</td>\n",
       "      <td>102056.0</td>\n",
       "      <td>15.06</td>\n",
       "      <td>13.18</td>\n",
       "      <td>1.89</td>\n",
       "      <td>2258.0</td>\n",
       "    </tr>\n",
       "    <tr>\n",
       "      <th>677</th>\n",
       "      <td>Argentina</td>\n",
       "      <td>ARG</td>\n",
       "      <td>2021-04-24</td>\n",
       "      <td>7017279.0</td>\n",
       "      <td>6149835.0</td>\n",
       "      <td>867444.0</td>\n",
       "      <td>209868.0</td>\n",
       "      <td>112915.0</td>\n",
       "      <td>15.53</td>\n",
       "      <td>13.61</td>\n",
       "      <td>1.92</td>\n",
       "      <td>2498.0</td>\n",
       "    </tr>\n",
       "  </tbody>\n",
       "</table>\n",
       "<p>117 rows × 12 columns</p>\n",
       "</div>"
      ],
      "text/plain": [
       "      location iso_code        date  total_vaccinations  people_vaccinated  \\\n",
       "561  Argentina      ARG  2020-12-29               700.0                NaN   \n",
       "562  Argentina      ARG  2020-12-30                 NaN                NaN   \n",
       "563  Argentina      ARG  2020-12-31             32013.0                NaN   \n",
       "564  Argentina      ARG  2021-01-01                 NaN                NaN   \n",
       "565  Argentina      ARG  2021-01-02                 NaN                NaN   \n",
       "..         ...      ...         ...                 ...                ...   \n",
       "673  Argentina      ARG  2021-04-20           6433141.0          5620411.0   \n",
       "674  Argentina      ARG  2021-04-21           6550568.0          5722607.0   \n",
       "675  Argentina      ARG  2021-04-22           6693438.0          5851232.0   \n",
       "676  Argentina      ARG  2021-04-23           6807411.0          5955371.0   \n",
       "677  Argentina      ARG  2021-04-24           7017279.0          6149835.0   \n",
       "\n",
       "     people_fully_vaccinated  daily_vaccinations_raw  daily_vaccinations  \\\n",
       "561                      NaN                     NaN                 0.0   \n",
       "562                      NaN                     NaN             15656.0   \n",
       "563                      NaN                     NaN             15656.0   \n",
       "564                      NaN                     NaN             11070.0   \n",
       "565                      NaN                     NaN              8776.0   \n",
       "..                       ...                     ...                 ...   \n",
       "673                 812730.0                 98587.0            123038.0   \n",
       "674                 827961.0                117427.0            113664.0   \n",
       "675                 842206.0                142870.0            108327.0   \n",
       "676                 852040.0                113973.0            102056.0   \n",
       "677                 867444.0                209868.0            112915.0   \n",
       "\n",
       "     total_vaccinations_per_hundred  people_vaccinated_per_hundred  \\\n",
       "561                            0.00                            NaN   \n",
       "562                             NaN                            NaN   \n",
       "563                            0.07                            NaN   \n",
       "564                             NaN                            NaN   \n",
       "565                             NaN                            NaN   \n",
       "..                              ...                            ...   \n",
       "673                           14.23                          12.44   \n",
       "674                           14.49                          12.66   \n",
       "675                           14.81                          12.95   \n",
       "676                           15.06                          13.18   \n",
       "677                           15.53                          13.61   \n",
       "\n",
       "     people_fully_vaccinated_per_hundred  daily_vaccinations_per_million  \n",
       "561                                  NaN                             NaN  \n",
       "562                                  NaN                           346.0  \n",
       "563                                  NaN                           346.0  \n",
       "564                                  NaN                           245.0  \n",
       "565                                  NaN                           194.0  \n",
       "..                                   ...                             ...  \n",
       "673                                 1.80                          2722.0  \n",
       "674                                 1.83                          2515.0  \n",
       "675                                 1.86                          2397.0  \n",
       "676                                 1.89                          2258.0  \n",
       "677                                 1.92                          2498.0  \n",
       "\n",
       "[117 rows x 12 columns]"
      ]
     },
     "execution_count": 11,
     "metadata": {},
     "output_type": "execute_result"
    }
   ],
   "source": [
    "pd.options.mode.chained_assignment = None  # default='warn'\n",
    "my_country[\"daily_vaccinations\"].fillna(0, inplace = True)\n",
    "my_country"
   ]
  },
  {
   "cell_type": "markdown",
   "metadata": {},
   "source": [
    "solution to question 5 : create a graph of common histogram for \"people_vaccinated\" and \"total_vaccinations\", and we construct the graph in a bright way that it will be possible to distinguish between the 2 columns."
   ]
  },
  {
   "cell_type": "code",
   "execution_count": 9,
   "metadata": {},
   "outputs": [
    {
     "data": {
      "text/plain": [
       "<matplotlib.axes._subplots.AxesSubplot at 0x1b7606035e0>"
      ]
     },
     "execution_count": 9,
     "metadata": {},
     "output_type": "execute_result"
    },
    {
     "data": {
      "image/png": "[encoded data removed]",
      "text/plain": [
       "<Figure size 432x288 with 1 Axes>"
      ]
     },
     "metadata": {
      "needs_background": "light"
     },
     "output_type": "display_data"
    }
   ],
   "source": [
    "total_vaccinations = my_country['total_vaccinations']\n",
    "people_vaccinated = my_country['people_vaccinated']\n",
    "myhisto = pd.DataFrame({'total_vaccinations': total_vaccinations, 'people_vaccinated': people_vaccinated})\n",
    "myhisto.plot.hist(alpha=0.6)"
   ]
  },
  {
   "cell_type": "markdown",
   "metadata": {},
   "source": [
    "solution to question 6 : First we will fill in the missing values in the column \"people_fully_vaccinated_per_hundred\" with \"0\" (to calculate median, common and mean number we will need numerical values) , and then we will create from it boxplot.\n"
   ]
  },
  {
   "cell_type": "code",
   "execution_count": 12,
   "metadata": {},
   "outputs": [
    {
     "name": "stdout",
     "output_type": "stream",
     "text": [
      " as we learn in class, The green line inside the boxplot is fit to the median and the median is 0.59\n"
     ]
    },
    {
     "data": {
      "image/png": "[encoded data removed]",
      "text/plain": [
       "<Figure size 432x288 with 1 Axes>"
      ]
     },
     "metadata": {
      "needs_background": "light"
     },
     "output_type": "display_data"
    }
   ],
   "source": [
    "my_country[\"people_fully_vaccinated_per_hundred\"] = my_country[\"people_fully_vaccinated_per_hundred\"].fillna(0)\n",
    "boxplot = my_country.boxplot(column = [\"people_fully_vaccinated_per_hundred\"])\n",
    "median = my_country[\"people_fully_vaccinated_per_hundred\"].median()\n",
    "print (\" as we learn in class, The green line inside the boxplot is fit to the median and the median is\",median)"
   ]
  },
  {
   "cell_type": "markdown",
   "metadata": {},
   "source": [
    "solution to question 7 : We will take the desired columns and group to use using \"groupby\" and then we will extract its maximum value using \"max\"."
   ]
  },
  {
   "cell_type": "code",
   "execution_count": 13,
   "metadata": {},
   "outputs": [
    {
     "data": {
      "text/html": [
       "<div>\n",
       "<style scoped>\n",
       "    .dataframe tbody tr th:only-of-type {\n",
       "        vertical-align: middle;\n",
       "    }\n",
       "\n",
       "    .dataframe tbody tr th {\n",
       "        vertical-align: top;\n",
       "    }\n",
       "\n",
       "    .dataframe thead th {\n",
       "        text-align: right;\n",
       "    }\n",
       "</style>\n",
       "<table border=\"1\" class=\"dataframe\">\n",
       "  <thead>\n",
       "    <tr style=\"text-align: right;\">\n",
       "      <th></th>\n",
       "      <th>daily_vaccinations</th>\n",
       "      <th>people_vaccinated_per_hundred</th>\n",
       "    </tr>\n",
       "    <tr>\n",
       "      <th>month</th>\n",
       "      <th></th>\n",
       "      <th></th>\n",
       "    </tr>\n",
       "  </thead>\n",
       "  <tbody>\n",
       "    <tr>\n",
       "      <th>1</th>\n",
       "      <td>14788.0</td>\n",
       "      <td>0.62</td>\n",
       "    </tr>\n",
       "    <tr>\n",
       "      <th>2</th>\n",
       "      <td>43534.0</td>\n",
       "      <td>1.62</td>\n",
       "    </tr>\n",
       "    <tr>\n",
       "      <th>3</th>\n",
       "      <td>127666.0</td>\n",
       "      <td>7.11</td>\n",
       "    </tr>\n",
       "    <tr>\n",
       "      <th>4</th>\n",
       "      <td>169014.0</td>\n",
       "      <td>13.61</td>\n",
       "    </tr>\n",
       "    <tr>\n",
       "      <th>12</th>\n",
       "      <td>15656.0</td>\n",
       "      <td>NaN</td>\n",
       "    </tr>\n",
       "  </tbody>\n",
       "</table>\n",
       "</div>"
      ],
      "text/plain": [
       "       daily_vaccinations  people_vaccinated_per_hundred\n",
       "month                                                   \n",
       "1                 14788.0                           0.62\n",
       "2                 43534.0                           1.62\n",
       "3                127666.0                           7.11\n",
       "4                169014.0                          13.61\n",
       "12                15656.0                            NaN"
      ]
     },
     "execution_count": 13,
     "metadata": {},
     "output_type": "execute_result"
    }
   ],
   "source": [
    "my_country['month'] = pd.DatetimeIndex(my_country['date']).month\n",
    "newf = my_country.groupby('month')[['daily_vaccinations']].max()\n",
    "newf['people_vaccinated_per_hundred'] = my_country.groupby('month')[['people_vaccinated_per_hundred']].max()\n",
    "newf"
   ]
  },
  {
   "cell_type": "markdown",
   "metadata": {},
   "source": [
    "solution to question 8 : to sort values in the column \"people_vaccinated_per_hundred\" if they are not already sort we use \"sort_values\"."
   ]
  },
  {
   "cell_type": "code",
   "execution_count": 14,
   "metadata": {},
   "outputs": [
    {
     "data": {
      "text/html": [
       "<div>\n",
       "<style scoped>\n",
       "    .dataframe tbody tr th:only-of-type {\n",
       "        vertical-align: middle;\n",
       "    }\n",
       "\n",
       "    .dataframe tbody tr th {\n",
       "        vertical-align: top;\n",
       "    }\n",
       "\n",
       "    .dataframe thead th {\n",
       "        text-align: right;\n",
       "    }\n",
       "</style>\n",
       "<table border=\"1\" class=\"dataframe\">\n",
       "  <thead>\n",
       "    <tr style=\"text-align: right;\">\n",
       "      <th></th>\n",
       "      <th>daily_vaccinations</th>\n",
       "      <th>people_vaccinated_per_hundred</th>\n",
       "    </tr>\n",
       "    <tr>\n",
       "      <th>month</th>\n",
       "      <th></th>\n",
       "      <th></th>\n",
       "    </tr>\n",
       "  </thead>\n",
       "  <tbody>\n",
       "    <tr>\n",
       "      <th>1</th>\n",
       "      <td>14788.0</td>\n",
       "      <td>0.62</td>\n",
       "    </tr>\n",
       "    <tr>\n",
       "      <th>2</th>\n",
       "      <td>43534.0</td>\n",
       "      <td>1.62</td>\n",
       "    </tr>\n",
       "    <tr>\n",
       "      <th>3</th>\n",
       "      <td>127666.0</td>\n",
       "      <td>7.11</td>\n",
       "    </tr>\n",
       "    <tr>\n",
       "      <th>4</th>\n",
       "      <td>169014.0</td>\n",
       "      <td>13.61</td>\n",
       "    </tr>\n",
       "    <tr>\n",
       "      <th>12</th>\n",
       "      <td>15656.0</td>\n",
       "      <td>NaN</td>\n",
       "    </tr>\n",
       "  </tbody>\n",
       "</table>\n",
       "</div>"
      ],
      "text/plain": [
       "       daily_vaccinations  people_vaccinated_per_hundred\n",
       "month                                                   \n",
       "1                 14788.0                           0.62\n",
       "2                 43534.0                           1.62\n",
       "3                127666.0                           7.11\n",
       "4                169014.0                          13.61\n",
       "12                15656.0                            NaN"
      ]
     },
     "execution_count": 14,
     "metadata": {},
     "output_type": "execute_result"
    }
   ],
   "source": [
    "newf.sort_values(\"people_vaccinated_per_hundred\")"
   ]
  },
  {
   "cell_type": "code",
   "execution_count": null,
   "metadata": {},
   "outputs": [],
   "source": []
  }
 ],
 "metadata": {
  "kernelspec": {
   "display_name": "Python 3",
   "language": "python",
   "name": "python3"
  },
  "language_info": {
   "codemirror_mode": {
    "name": "ipython",
    "version": 3
   },
   "file_extension": ".py",
   "mimetype": "text/x-python",
   "name": "python",
   "nbconvert_exporter": "python",
   "pygments_lexer": "ipython3",
   "version": "3.8.3"
  }
 },
 "nbformat": 4,
 "nbformat_minor": 4
}
