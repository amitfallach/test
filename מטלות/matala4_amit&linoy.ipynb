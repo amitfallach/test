{
 "cells": [
  {
   "cell_type": "code",
   "execution_count": 1,
   "metadata": {},
   "outputs": [],
   "source": [
    "id1 = \"318510070\"\n",
    "id2 = \"206073124\"\n",
    "\n",
    "name_student_1 = \"Amit, Fallach\"\n",
    "name_student_2 = \"Linoy ,Medalsy \"\n",
    "\n",
    "import pandas as pd\n",
    "import seaborn as sns\n",
    "import numpy as np\n",
    "import matplotlib.pyplot as plt\n",
    "import sklearn as sk\n",
    "from sklearn.model_selection import train_test_split\n",
    "from sklearn.tree import DecisionTreeRegressor\n",
    "from sklearn.metrics import mean_squared_error as mse\n",
    "from sklearn.metrics import accuracy_score\n",
    "\n",
    "df = pd.DataFrame([id1,id2])\n",
    "df = pd.DataFrame([id1])\n",
    "df.to_clipboard(index=False,header=False)"
   ]
  },
  {
   "cell_type": "code",
   "execution_count": 11,
   "metadata": {},
   "outputs": [],
   "source": [
    "file1 = \"https://raw.githubusercontent.com/ShaiYona/Data-Science2021B/main/Assignments/4/nba.csv\"\n",
    "NBAdata = pd.read_csv(file1)\n",
    "NBAdata = NBAdata.copy()"
   ]
  },
  {
   "cell_type": "markdown",
   "metadata": {},
   "source": [
    "solution to question 1 : We will omit all the empty values and present the first 3 lines from the wanted columns \\ We will take the 3 columns and save them in a separate variable, there a total of 11 lines with missing values, so we will remove all the lines that have missing values"
   ]
  },
  {
   "cell_type": "code",
   "execution_count": 3,
   "metadata": {},
   "outputs": [
    {
     "data": {
      "text/html": [
       "<div>\n",
       "<style scoped>\n",
       "    .dataframe tbody tr th:only-of-type {\n",
       "        vertical-align: middle;\n",
       "    }\n",
       "\n",
       "    .dataframe tbody tr th {\n",
       "        vertical-align: top;\n",
       "    }\n",
       "\n",
       "    .dataframe thead th {\n",
       "        text-align: right;\n",
       "    }\n",
       "</style>\n",
       "<table border=\"1\" class=\"dataframe\">\n",
       "  <thead>\n",
       "    <tr style=\"text-align: right;\">\n",
       "      <th></th>\n",
       "      <th>Age</th>\n",
       "      <th>Height</th>\n",
       "      <th>Weight</th>\n",
       "      <th>Salary</th>\n",
       "    </tr>\n",
       "  </thead>\n",
       "  <tbody>\n",
       "    <tr>\n",
       "      <th>0</th>\n",
       "      <td>25.0</td>\n",
       "      <td>6-2</td>\n",
       "      <td>180.0</td>\n",
       "      <td>7730337.0</td>\n",
       "    </tr>\n",
       "    <tr>\n",
       "      <th>1</th>\n",
       "      <td>25.0</td>\n",
       "      <td>6-6</td>\n",
       "      <td>235.0</td>\n",
       "      <td>6796117.0</td>\n",
       "    </tr>\n",
       "    <tr>\n",
       "      <th>2</th>\n",
       "      <td>22.0</td>\n",
       "      <td>6-5</td>\n",
       "      <td>185.0</td>\n",
       "      <td>1148640.0</td>\n",
       "    </tr>\n",
       "  </tbody>\n",
       "</table>\n",
       "</div>"
      ],
      "text/plain": [
       "    Age Height  Weight     Salary\n",
       "0  25.0    6-2   180.0  7730337.0\n",
       "1  25.0    6-6   235.0  6796117.0\n",
       "2  22.0    6-5   185.0  1148640.0"
      ]
     },
     "execution_count": 3,
     "metadata": {},
     "output_type": "execute_result"
    }
   ],
   "source": [
    "NBAdata1 = NBAdata[[\"Age\",\"Height\",\"Weight\",\"Salary\"]].dropna().reset_index(drop=True)\n",
    "NBAdata1.head(3)"
   ]
  },
  {
   "cell_type": "markdown",
   "metadata": {},
   "source": [
    "solution to question 2 : We will split the values in the \"Height\" column into 2 indexes and make them \"float\". then We create a new column with the values by cm"
   ]
  },
  {
   "cell_type": "code",
   "execution_count": 4,
   "metadata": {},
   "outputs": [
    {
     "data": {
      "text/html": [
       "<div>\n",
       "<style scoped>\n",
       "    .dataframe tbody tr th:only-of-type {\n",
       "        vertical-align: middle;\n",
       "    }\n",
       "\n",
       "    .dataframe tbody tr th {\n",
       "        vertical-align: top;\n",
       "    }\n",
       "\n",
       "    .dataframe thead th {\n",
       "        text-align: right;\n",
       "    }\n",
       "</style>\n",
       "<table border=\"1\" class=\"dataframe\">\n",
       "  <thead>\n",
       "    <tr style=\"text-align: right;\">\n",
       "      <th></th>\n",
       "      <th>Age</th>\n",
       "      <th>Height in cm</th>\n",
       "      <th>Weight</th>\n",
       "      <th>Salary</th>\n",
       "    </tr>\n",
       "  </thead>\n",
       "  <tbody>\n",
       "    <tr>\n",
       "      <th>0</th>\n",
       "      <td>25.0</td>\n",
       "      <td>187.96</td>\n",
       "      <td>180.0</td>\n",
       "      <td>7730337.0</td>\n",
       "    </tr>\n",
       "    <tr>\n",
       "      <th>1</th>\n",
       "      <td>25.0</td>\n",
       "      <td>198.12</td>\n",
       "      <td>235.0</td>\n",
       "      <td>6796117.0</td>\n",
       "    </tr>\n",
       "    <tr>\n",
       "      <th>2</th>\n",
       "      <td>22.0</td>\n",
       "      <td>195.58</td>\n",
       "      <td>185.0</td>\n",
       "      <td>1148640.0</td>\n",
       "    </tr>\n",
       "  </tbody>\n",
       "</table>\n",
       "</div>"
      ],
      "text/plain": [
       "    Age  Height in cm  Weight     Salary\n",
       "0  25.0        187.96   180.0  7730337.0\n",
       "1  25.0        198.12   235.0  6796117.0\n",
       "2  22.0        195.58   185.0  1148640.0"
      ]
     },
     "execution_count": 4,
     "metadata": {},
     "output_type": "execute_result"
    }
   ],
   "source": [
    "NBAdata['heigh-feet'] = NBAdata[\"Height\"].str.split('-').str[0].astype(\"float\")\n",
    "NBAdata['heigh-inc'] = NBAdata[\"Height\"].str.split('-').str[1].astype(\"float\")\n",
    "NBAdata['Height in cm'] = (NBAdata['heigh-feet'] * 30.48) + (NBAdata['heigh-inc']*2.54)\n",
    "\n",
    "NBAdata2 = NBAdata[['Age','Height in cm','Weight','Salary']].dropna().reset_index(drop=True)\n",
    "NBAdata2.head(3)"
   ]
  },
  {
   "cell_type": "markdown",
   "metadata": {},
   "source": [
    "solution to question 3 : we Build a matrix of a row with 2 columns, and then put the pie plot and the countplot inside."
   ]
  },
  {
   "cell_type": "code",
   "execution_count": 5,
   "metadata": {},
   "outputs": [
    {
     "data": {
      "image/png": "[encoded data removed]",
      "text/plain": [
       "<Figure size 1080x360 with 2 Axes>"
      ]
     },
     "metadata": {
      "needs_background": "light"
     },
     "output_type": "display_data"
    }
   ],
   "source": [
    "NBAdata2[\"Position\"] = NBAdata[\"Position\"]\n",
    "fig, axes = plt.subplots(1, 2,figsize = (15,5))\n",
    "sns.countplot(ax=axes[0], x=\"Position\", data=NBAdata2)\n",
    "plt.title(\"Distribution of Positions on NBA players\")\n",
    "NBAdata['Position'].value_counts().plot.pie(ax=axes[1],autopct=\"%1.1f%%\") \n",
    "plt.show()"
   ]
  },
  {
   "cell_type": "markdown",
   "metadata": {},
   "source": [
    "We think the pie plot is more obvious because its shows the options in percentages in more convenient way."
   ]
  },
  {
   "cell_type": "markdown",
   "metadata": {},
   "source": [
    "solution to question 4 : We select a train group and a test group from the Data Frame and present the first 5 lines."
   ]
  },
  {
   "cell_type": "code",
   "execution_count": 6,
   "metadata": {},
   "outputs": [
    {
     "name": "stdout",
     "output_type": "stream",
     "text": [
      "The x_train is: \n",
      "       Age  Height in cm  Weight\n",
      "108  24.0        195.58   194.0\n",
      "227  31.0        185.42   205.0\n",
      "416  20.0        203.20   240.0\n",
      "118  31.0        200.66   210.0\n",
      "114  20.0        195.58   195.0 \n",
      "\n",
      "The y_test is: \n",
      " 284      55722.0\n",
      "358    5000000.0\n",
      "117     947276.0\n",
      "423    5016000.0\n",
      "70     2900000.0\n",
      "Name: Salary, dtype: float64\n"
     ]
    }
   ],
   "source": [
    "features = ['Age','Height in cm','Weight']  \n",
    "X = NBAdata2[features]\n",
    "y = NBAdata2['Salary']\n",
    "\n",
    "X_train,X_test,y_train,y_test = sk.model_selection.train_test_split(X,y,test_size=0.3,random_state=42)\n",
    "\n",
    "print(\"The x_train is: \\n\",X_train.head(),\"\\n\")\n",
    "print(\"The y_test is: \\n\",y_test.head())"
   ]
  },
  {
   "cell_type": "markdown",
   "metadata": {},
   "source": [
    "solution to question 5 : we use the \"Regressor\" model becuse we want to measure numerical values and \"Classifier\" model fit to categorical values."
   ]
  },
  {
   "cell_type": "code",
   "execution_count": 7,
   "metadata": {},
   "outputs": [
    {
     "data": {
      "text/plain": [
       "DecisionTreeRegressor(random_state=42)"
      ]
     },
     "execution_count": 7,
     "metadata": {},
     "output_type": "execute_result"
    }
   ],
   "source": [
    "# Define model.\n",
    "NBAdata_model = DecisionTreeRegressor(random_state=42)\n",
    "\n",
    "# Fit model\n",
    "NBAdata_model.fit(X_train, y_train)\n"
   ]
  },
  {
   "cell_type": "markdown",
   "metadata": {},
   "source": [
    "solution to question 6 : We will make a prediction and define a new DF, then we will arrange the index and print it in a convenient visual way to see the salary in relation to the prediction, then we will print the accuracy."
   ]
  },
  {
   "cell_type": "code",
   "execution_count": 8,
   "metadata": {},
   "outputs": [
    {
     "name": "stdout",
     "output_type": "stream",
     "text": [
      "MSE: 7011699.886\n"
     ]
    },
    {
     "data": {
      "text/html": [
       "<div>\n",
       "<style scoped>\n",
       "    .dataframe tbody tr th:only-of-type {\n",
       "        vertical-align: middle;\n",
       "    }\n",
       "\n",
       "    .dataframe tbody tr th {\n",
       "        vertical-align: top;\n",
       "    }\n",
       "\n",
       "    .dataframe thead th {\n",
       "        text-align: right;\n",
       "    }\n",
       "</style>\n",
       "<table border=\"1\" class=\"dataframe\">\n",
       "  <thead>\n",
       "    <tr style=\"text-align: right;\">\n",
       "      <th></th>\n",
       "      <th>Salary</th>\n",
       "      <th>Predictions</th>\n",
       "    </tr>\n",
       "  </thead>\n",
       "  <tbody>\n",
       "    <tr>\n",
       "      <th>0</th>\n",
       "      <td>55722.0</td>\n",
       "      <td>134215.0</td>\n",
       "    </tr>\n",
       "    <tr>\n",
       "      <th>1</th>\n",
       "      <td>5000000.0</td>\n",
       "      <td>21468695.0</td>\n",
       "    </tr>\n",
       "    <tr>\n",
       "      <th>2</th>\n",
       "      <td>947276.0</td>\n",
       "      <td>947276.0</td>\n",
       "    </tr>\n",
       "    <tr>\n",
       "      <th>3</th>\n",
       "      <td>5016000.0</td>\n",
       "      <td>7700000.0</td>\n",
       "    </tr>\n",
       "    <tr>\n",
       "      <th>4</th>\n",
       "      <td>2900000.0</td>\n",
       "      <td>4500000.0</td>\n",
       "    </tr>\n",
       "    <tr>\n",
       "      <th>...</th>\n",
       "      <td>...</td>\n",
       "      <td>...</td>\n",
       "    </tr>\n",
       "    <tr>\n",
       "      <th>129</th>\n",
       "      <td>525093.0</td>\n",
       "      <td>1842000.0</td>\n",
       "    </tr>\n",
       "    <tr>\n",
       "      <th>130</th>\n",
       "      <td>5500000.0</td>\n",
       "      <td>4000000.0</td>\n",
       "    </tr>\n",
       "    <tr>\n",
       "      <th>131</th>\n",
       "      <td>947276.0</td>\n",
       "      <td>3750000.0</td>\n",
       "    </tr>\n",
       "    <tr>\n",
       "      <th>132</th>\n",
       "      <td>1824360.0</td>\n",
       "      <td>2658240.0</td>\n",
       "    </tr>\n",
       "    <tr>\n",
       "      <th>133</th>\n",
       "      <td>1140240.0</td>\n",
       "      <td>14700000.0</td>\n",
       "    </tr>\n",
       "  </tbody>\n",
       "</table>\n",
       "<p>134 rows × 2 columns</p>\n",
       "</div>"
      ],
      "text/plain": [
       "        Salary  Predictions\n",
       "0      55722.0     134215.0\n",
       "1    5000000.0   21468695.0\n",
       "2     947276.0     947276.0\n",
       "3    5016000.0    7700000.0\n",
       "4    2900000.0    4500000.0\n",
       "..         ...          ...\n",
       "129   525093.0    1842000.0\n",
       "130  5500000.0    4000000.0\n",
       "131   947276.0    3750000.0\n",
       "132  1824360.0    2658240.0\n",
       "133  1140240.0   14700000.0\n",
       "\n",
       "[134 rows x 2 columns]"
      ]
     },
     "execution_count": 8,
     "metadata": {},
     "output_type": "execute_result"
    }
   ],
   "source": [
    "NBApredict = NBAdata_model.predict(X_test)\n",
    "NBA6 = pd.DataFrame(columns = ['Salary', 'Predictions'])\n",
    "NBA6['Salary'] = y_test.reset_index(drop=True)\n",
    "NBA6['Predictions'] = pd.Series(NBApredict)\n",
    "\n",
    "print(\"MSE: {:.3f}\".format(mse(NBApredict,y_test,squared = False)))\n",
    "NBA6 "
   ]
  },
  {
   "cell_type": "markdown",
   "metadata": {},
   "source": [
    "solution to question 7 : We will add the column 'Position' and make it a category, then we will do all the actions we done before for the prediction and then we present the accuracy"
   ]
  },
  {
   "cell_type": "code",
   "execution_count": 9,
   "metadata": {},
   "outputs": [
    {
     "name": "stdout",
     "output_type": "stream",
     "text": [
      "MSE: 7560454.074\n"
     ]
    },
    {
     "data": {
      "text/html": [
       "<div>\n",
       "<style scoped>\n",
       "    .dataframe tbody tr th:only-of-type {\n",
       "        vertical-align: middle;\n",
       "    }\n",
       "\n",
       "    .dataframe tbody tr th {\n",
       "        vertical-align: top;\n",
       "    }\n",
       "\n",
       "    .dataframe thead th {\n",
       "        text-align: right;\n",
       "    }\n",
       "</style>\n",
       "<table border=\"1\" class=\"dataframe\">\n",
       "  <thead>\n",
       "    <tr style=\"text-align: right;\">\n",
       "      <th></th>\n",
       "      <th>Salary</th>\n",
       "      <th>Predictions</th>\n",
       "    </tr>\n",
       "  </thead>\n",
       "  <tbody>\n",
       "    <tr>\n",
       "      <th>0</th>\n",
       "      <td>55722.0</td>\n",
       "      <td>1015421.0</td>\n",
       "    </tr>\n",
       "    <tr>\n",
       "      <th>1</th>\n",
       "      <td>5000000.0</td>\n",
       "      <td>21468695.0</td>\n",
       "    </tr>\n",
       "    <tr>\n",
       "      <th>2</th>\n",
       "      <td>947276.0</td>\n",
       "      <td>5675000.0</td>\n",
       "    </tr>\n",
       "    <tr>\n",
       "      <th>3</th>\n",
       "      <td>5016000.0</td>\n",
       "      <td>22359364.0</td>\n",
       "    </tr>\n",
       "    <tr>\n",
       "      <th>4</th>\n",
       "      <td>2900000.0</td>\n",
       "      <td>947276.0</td>\n",
       "    </tr>\n",
       "    <tr>\n",
       "      <th>...</th>\n",
       "      <td>...</td>\n",
       "      <td>...</td>\n",
       "    </tr>\n",
       "    <tr>\n",
       "      <th>129</th>\n",
       "      <td>525093.0</td>\n",
       "      <td>1842000.0</td>\n",
       "    </tr>\n",
       "    <tr>\n",
       "      <th>130</th>\n",
       "      <td>5500000.0</td>\n",
       "      <td>261894.0</td>\n",
       "    </tr>\n",
       "    <tr>\n",
       "      <th>131</th>\n",
       "      <td>947276.0</td>\n",
       "      <td>3750000.0</td>\n",
       "    </tr>\n",
       "    <tr>\n",
       "      <th>132</th>\n",
       "      <td>1824360.0</td>\n",
       "      <td>2505720.0</td>\n",
       "    </tr>\n",
       "    <tr>\n",
       "      <th>133</th>\n",
       "      <td>1140240.0</td>\n",
       "      <td>14700000.0</td>\n",
       "    </tr>\n",
       "  </tbody>\n",
       "</table>\n",
       "<p>134 rows × 2 columns</p>\n",
       "</div>"
      ],
      "text/plain": [
       "        Salary  Predictions\n",
       "0      55722.0    1015421.0\n",
       "1    5000000.0   21468695.0\n",
       "2     947276.0    5675000.0\n",
       "3    5016000.0   22359364.0\n",
       "4    2900000.0     947276.0\n",
       "..         ...          ...\n",
       "129   525093.0    1842000.0\n",
       "130  5500000.0     261894.0\n",
       "131   947276.0    3750000.0\n",
       "132  1824360.0    2505720.0\n",
       "133  1140240.0   14700000.0\n",
       "\n",
       "[134 rows x 2 columns]"
      ]
     },
     "execution_count": 9,
     "metadata": {},
     "output_type": "execute_result"
    }
   ],
   "source": [
    "NBAdata2['Position_cat'] = NBAdata2['Position'].astype('category').cat.codes\n",
    "features1 = ['Age','Height in cm','Weight','Position_cat']  \n",
    "\n",
    "X2 = NBAdata2[features1]\n",
    "y2 = NBAdata2['Salary']\n",
    "\n",
    "X_train2,X_test2,y_train2,y_test2 = sk.model_selection.train_test_split(X2,y2,test_size=0.3,random_state=42)\n",
    "\n",
    "NBAdata_model2 = DecisionTreeRegressor(random_state=42)\n",
    "\n",
    "NBAdata_model2.fit(X_train2, y_train2)\n",
    "NBApredict2 = NBAdata_model2.predict(X_test2)\n",
    "NBA7 = pd.DataFrame(columns = ['Salary', 'Predictions'])\n",
    "NBA7['Salary'] = y_test2.reset_index(drop=True)\n",
    "NBA7['Predictions'] = pd.Series(NBApredict2)\n",
    "\n",
    "print(\"MSE: {:.3f}\".format(mse(NBApredict2,y_test2,squared = False)))\n",
    "NBA7 "
   ]
  },
  {
   "cell_type": "markdown",
   "metadata": {},
   "source": [
    "The accuracy came out higher so the prediction without the column 'Position' is better"
   ]
  },
  {
   "cell_type": "markdown",
   "metadata": {},
   "source": [
    "solution to question 8 : We tested some depth limits and the depth of 3 steps reduced to the minimum mse"
   ]
  },
  {
   "cell_type": "code",
   "execution_count": 10,
   "metadata": {},
   "outputs": [
    {
     "name": "stdout",
     "output_type": "stream",
     "text": [
      "MSE: 5359227.871\n"
     ]
    }
   ],
   "source": [
    "model8 = DecisionTreeRegressor(max_depth=3,random_state=42)\n",
    "model8.fit(X_train2,y_train2)\n",
    "modelpre = model8.predict(X_test2)\n",
    "print(\"MSE: {:.3f}\".format(mse(modelpre,y_test2,squared=False)))"
   ]
  },
  {
   "cell_type": "code",
   "execution_count": null,
   "metadata": {},
   "outputs": [],
   "source": []
  }
 ],
 "metadata": {
  "kernelspec": {
   "display_name": "Python 3",
   "language": "python",
   "name": "python3"
  },
  "language_info": {
   "codemirror_mode": {
    "name": "ipython",
    "version": 3
   },
   "file_extension": ".py",
   "mimetype": "text/x-python",
   "name": "python",
   "nbconvert_exporter": "python",
   "pygments_lexer": "ipython3",
   "version": "3.8.3"
  }
 },
 "nbformat": 4,
 "nbformat_minor": 4
}
