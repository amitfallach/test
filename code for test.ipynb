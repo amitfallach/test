{
 "cells": [
  {
   "cell_type": "markdown",
   "metadata": {},
   "source": [
    "### >>all the import:"
   ]
  },
  {
   "cell_type": "code",
   "execution_count": 54,
   "metadata": {},
   "outputs": [],
   "source": [
    "import pandas as pd\n",
    "import numpy as np\n",
    "import matplotlib.pyplot as plt\n",
    "import seaborn as sns\n",
    "import sklearn as sk\n",
    "from sklearn import tree\n",
    "from sklearn.tree import DecisionTreeClassifier\n",
    "from sklearn.model_selection import train_test_split\n",
    "from sklearn.metrics import mean_squared_error as mse"
   ]
  },
  {
   "cell_type": "markdown",
   "metadata": {},
   "source": [
    "### >>tables:\n"
   ]
  },
  {
   "cell_type": "markdown",
   "metadata": {},
   "source": [
    "##### 1.pivot table\n",
    "מסדר טבלה חדשה של עמודה אחת ביחס לכמה עמודות אחרות, המדידה היא ביחס לעמודה שנבחר, הדיפולט זה ממוצע, כדי לשנות דיפולט נכתוב את הפעולה הרצויה בaggfunc \n",
    "###### #pay attention - the defult is mean"
   ]
  },
  {
   "cell_type": "code",
   "execution_count": 1,
   "metadata": {},
   "outputs": [],
   "source": [
    "#Data.pivot_table('name of the data column', index='(שורות)אנכי', columns='(עמודות )אופקי, aggfunc={'my data column':sum} )\n",
    "#מימוש = data.pivot_table(['שמות העמודות שאותך נרצה למדוד מופרד בפסיקים'],\"שם העמודה שנמדוד ביחס אליה\")"
   ]
  },
  {
   "cell_type": "markdown",
   "metadata": {},
   "source": [
    "groupby כמו פיווט טייבל "
   ]
  },
  {
   "cell_type": "code",
   "execution_count": 2,
   "metadata": {},
   "outputs": [],
   "source": [
    "#Data.groupby(['column1', 'column2'])[['data-column']].aggregate('mean').unstack()\n",
    "#a1 = data.groupby([\"region\",\"year\"])[[\"total_sold\"]].sum()"
   ]
  },
  {
   "cell_type": "markdown",
   "metadata": {},
   "source": [
    "### >>Conditional selection"
   ]
  },
  {
   "cell_type": "markdown",
   "metadata": {},
   "source": [
    "##### 1.str.contains"
   ]
  },
  {
   "cell_type": "code",
   "execution_count": 57,
   "metadata": {},
   "outputs": [],
   "source": [
    "#נותן לחפש את הערך הרצוי בעמודה מסוימת רק אם הוא סטרינג !\n",
    "\n",
    "#data[data.region.str.contains(\"WestTexNewMexico\")]\n",
    "\n",
    "#עובד עם כל סוגי המידע(סטרינג מסםר וכו...),חיפוש ערך בעמודה מסוימת לפי שם הערך\n",
    "\n",
    "#data.loc[data.column == \"value\"]\n",
    "#data = data[data.column_name == int value]"
   ]
  },
  {
   "cell_type": "markdown",
   "metadata": {},
   "source": [
    "##### 2.str.statwith"
   ]
  },
  {
   "cell_type": "code",
   "execution_count": 3,
   "metadata": {},
   "outputs": [],
   "source": [
    "#למצוא סטרינג שמתחיל בתו כלשהו בעמודה מסוימת\n",
    "\n",
    "#data[data[\"column\"].str.startswith((\"K\"))]"
   ]
  },
  {
   "cell_type": "markdown",
   "metadata": {},
   "source": [
    "### >> null value"
   ]
  },
  {
   "cell_type": "markdown",
   "metadata": {},
   "source": [
    "##### 1.Finding missing values\n"
   ]
  },
  {
   "cell_type": "code",
   "execution_count": 60,
   "metadata": {},
   "outputs": [],
   "source": [
    "#for all data\n",
    "#data.isnull().sum().sort_values()"
   ]
  },
  {
   "cell_type": "code",
   "execution_count": 61,
   "metadata": {},
   "outputs": [],
   "source": [
    "#for specific column\n",
    "#data['column'].isnull().sum()\n",
    "#data['column'].notnull().sum()"
   ]
  },
  {
   "cell_type": "markdown",
   "metadata": {},
   "source": [
    "##### 2.Remove missing value"
   ]
  },
  {
   "cell_type": "code",
   "execution_count": 62,
   "metadata": {},
   "outputs": [],
   "source": [
    "#for all data\n",
    "#data.dropna()"
   ]
  },
  {
   "cell_type": "code",
   "execution_count": 63,
   "metadata": {},
   "outputs": [],
   "source": [
    "#for specific column\n",
    "#data.dropna(subset = ['column']).count()"
   ]
  },
  {
   "cell_type": "markdown",
   "metadata": {},
   "source": [
    "##### 3.Fill missing values "
   ]
  },
  {
   "cell_type": "code",
   "execution_count": 64,
   "metadata": {},
   "outputs": [],
   "source": [
    "#data[column].fillna('k', inplace = True )\n",
    "# \"לערכים ריקים נרשום באינפלייס \"אמת\", אם נרצה להחליף את כל הערכים נרשום \"שקר"
   ]
  },
  {
   "cell_type": "markdown",
   "metadata": {},
   "source": [
    "> * Extension on Missing Values ​​- `Unit 3`\n"
   ]
  },
  {
   "cell_type": "markdown",
   "metadata": {},
   "source": [
    "### > Visualization"
   ]
  },
  {
   "cell_type": "markdown",
   "metadata": {},
   "source": [
    "#### 1. scatterplot:\n",
    "גרף שמראה עלייה\\ ירידה של נתונים בין 2 עמודות, מתאים אחרי קרולציה לנתונים בדידים בדגש על בדידים !! מראה נקודות "
   ]
  },
  {
   "cell_type": "code",
   "execution_count": 65,
   "metadata": {},
   "outputs": [],
   "source": [
    "#קישור לויזואליזציות שונות\n",
    "#https://seaborn.pydata.org/examples/index.html"
   ]
  },
  {
   "cell_type": "code",
   "execution_count": 66,
   "metadata": {},
   "outputs": [],
   "source": [
    "#seaborn\n",
    "#sns.scatterplot(data=data, x=\"Xcolumn\", y=\"Ycolumn\", hue = 'ניתן לשים שם של עמודה וזה יעשה צבע לכל ערך',sizes=(1, 8))"
   ]
  },
  {
   "cell_type": "code",
   "execution_count": 67,
   "metadata": {},
   "outputs": [],
   "source": [
    "#panda\n",
    "#data.plot.scatter(x = 'Xcolumn', y = 'Ycolumn')"
   ]
  },
  {
   "cell_type": "markdown",
   "metadata": {},
   "source": [
    "#### strip plot\n",
    "מראה כמה גרפים אחד ליד השני עם נקודות, ז\"א נתונים בדידים ככה שאפשר לראות צפיפות ביחס בין 2 עמודות מסוימות"
   ]
  },
  {
   "cell_type": "code",
   "execution_count": 5,
   "metadata": {},
   "outputs": [],
   "source": [
    "# sns.stripplot(x=\"numrated\" , y='runtime per min', data=movie_df)          \n",
    "# plt.show()"
   ]
  },
  {
   "cell_type": "markdown",
   "metadata": {},
   "source": [
    "#### 2.barplot:\n",
    "הצגה של נתונים רציפים לפי צבעים. מתאים להשוואה לפי ממוצע,סכום וכו."
   ]
  },
  {
   "cell_type": "code",
   "execution_count": 68,
   "metadata": {},
   "outputs": [],
   "source": [
    "#seaborn\n",
    "#sns.barplot(ax = axes[]\"במידה וזה במטריצה נרשום מיקום\", x=\"Xcolumn\", y=\"Ycolumn\",  data=data)\n",
    "#sns.catplot(ax = axes[]\"במידה וזה במטריצה נרשום מיקום\", data=data, kind=\"bar\",x=\"Xcolumn\",y = \"ycolumn\")"
   ]
  },
  {
   "cell_type": "markdown",
   "metadata": {},
   "source": [
    "#### 3. countplot:\n",
    "מיועד לסכימה של דטה והשוואה בין עמודות ספציפיות או ערכים מסוימים, אם זה מספר של עמודות נעשה מטריצה"
   ]
  },
  {
   "cell_type": "code",
   "execution_count": 69,
   "metadata": {},
   "outputs": [],
   "source": [
    "#seaborn\n",
    "#sns.countplot(ax = axes[]\"במידה וזה במטריצה נרשום מיקום\", x=\"Xcolumn\", data=data)\n",
    "#sns.catplot(ax = axes[]\"במידה וזה במטריצה נרשום מיקום\" , x=\"Xcolumn\", kind=\"count\", data=data)"
   ]
  },
  {
   "cell_type": "markdown",
   "metadata": {},
   "source": [
    "> * Extension on countplot ​​- `Unit 6`\n"
   ]
  },
  {
   "cell_type": "markdown",
   "metadata": {},
   "source": [
    "#### 4. catplot:"
   ]
  },
  {
   "cell_type": "code",
   "execution_count": 6,
   "metadata": {},
   "outputs": [],
   "source": [
    "##sns.catplot(x=\"Xcolumn\", y=\"Ycolumn\", hue=\"נותן אופציה למלא שם עמודה וזה יפצל לצבעים את הערכים לפי העמודה הזאת,לא חובה\", kind=\"סוג השרטוט\", data=data)\n",
    "# sns.catplot(data=e1, kind=\"bar\",x=\"type\",y = \"total_sold\")"
   ]
  },
  {
   "cell_type": "markdown",
   "metadata": {},
   "source": [
    "> * Extension on catplot ​​- `Unit 9`\n"
   ]
  },
  {
   "cell_type": "markdown",
   "metadata": {},
   "source": [
    "#### 5. histogram:"
   ]
  },
  {
   "cell_type": "code",
   "execution_count": 71,
   "metadata": {},
   "outputs": [],
   "source": [
    "#data.hist('column')"
   ]
  },
  {
   "cell_type": "code",
   "execution_count": 72,
   "metadata": {},
   "outputs": [],
   "source": [
    "#data.plot.hist(bins=20, alpha=0.7)"
   ]
  },
  {
   "cell_type": "code",
   "execution_count": 73,
   "metadata": {},
   "outputs": [],
   "source": [
    "#plt.hist(male['math score'], alpha=0.4, label='male')\n",
    "#plt.hist(female['math score'], alpha=0.4, label='female')\n",
    "#plt.legend(loc='upper right')\n"
   ]
  },
  {
   "cell_type": "markdown",
   "metadata": {},
   "source": [
    "> * Extension on hist ​​- `Unit 4`,`tirgul 9`\n"
   ]
  },
  {
   "cell_type": "markdown",
   "metadata": {},
   "source": [
    "#### 6. boxplot:"
   ]
  },
  {
   "cell_type": "code",
   "execution_count": 7,
   "metadata": {},
   "outputs": [],
   "source": [
    "#panda\n",
    "#data['column'].plot(kind='box', figsize=(3,4), patch_artist=True)\n",
    "#patch_artist = true ---> ממלא את הקופסא בצבע\n",
    "#חציון באמצע\n",
    "#data.boxplot('column', patch_artist=True)"
   ]
  },
  {
   "cell_type": "code",
   "execution_count": 75,
   "metadata": {},
   "outputs": [],
   "source": [
    "#seaborn\n",
    "#sns.boxplot(y=\"Age\", data=drug_df, linewidth=2.5,color=\"tab:blue\")\n",
    "#sns.boxplot(x=\"Xcolumn\", y=\"Ycolumn\",hue=\"color_column\", palette=[\"m\", \"g\"],data=data)"
   ]
  },
  {
   "cell_type": "markdown",
   "metadata": {},
   "source": [
    "> * Extension on boxplot ​​- `Unit 4`\n"
   ]
  },
  {
   "cell_type": "markdown",
   "metadata": {},
   "source": [
    "#### 6. pie plot:\n",
    "\n",
    "מתאים לעד 2 ערכים"
   ]
  },
  {
   "cell_type": "code",
   "execution_count": 76,
   "metadata": {},
   "outputs": [],
   "source": [
    "#data['column'].value_counts().plot.pie(autopct=\"%1.1f%%\")"
   ]
  },
  {
   "cell_type": "markdown",
   "metadata": {},
   "source": [
    "#### 7. regplot:\n",
    "קו שמייצג רגרסיה לינארית לנתונים בדידים"
   ]
  },
  {
   "cell_type": "code",
   "execution_count": 15,
   "metadata": {},
   "outputs": [],
   "source": [
    "#sns.regplot(x='Xcolumn', y='Ycolumn', data=data[data['column'] < int])  אם אני רוצה שזה יהיה מתחת\\מעל ערכים ספציפיים מסוימים בעמודה כלשהי\n",
    "# sns.regplot(x='imdb_rating', y=\"metascore\", data=percor)\n"
   ]
  },
  {
   "cell_type": "markdown",
   "metadata": {},
   "source": [
    "### 8. מטריצה"
   ]
  },
  {
   "cell_type": "code",
   "execution_count": 11,
   "metadata": {},
   "outputs": [],
   "source": [
    "# fig, axes = plt.subplots(1, 3, figsize=(10,5))\n",
    "\n",
    "# sns.stripplot(ax = axes[0], x=\"awards\" , y=\"imdb_rating\", data=movie_df, jitter=0.1)          \n",
    "\n",
    "\n",
    "# sns.stripplot(ax = axes[1], x=\"awards\", y=\"imdb_votes\", data=movie_df, jitter=0.1)\n",
    "\n",
    "\n",
    "# sns.stripplot(ax = axes[2], x=\"awards\", y=\"runtime per min\", data=movie_df, jitter=0.1)\n",
    "\n",
    "#מגדיר את הרווח בין הגרפים\n",
    "# plt.subplots_adjust(wspace = 0.5);\n",
    "\n",
    "# plt.show()\n",
    "\n"
   ]
  },
  {
   "cell_type": "markdown",
   "metadata": {},
   "source": [
    "### צפיפות ,נעשה לפני קרולציות כדיח לבדוק את הדאטה. גרף פעמון פירסון. גרף אחר קנדל טאו "
   ]
  },
  {
   "cell_type": "code",
   "execution_count": 13,
   "metadata": {},
   "outputs": [],
   "source": [
    "# features = ['metascore','imdb_rating','imdb_votes','runtime per min','broadcast_from_year',\"awards\" ]\n",
    "\n",
    "# movie_df[features].plot.density(subplots=True, sharex=False, sharey=False, layout=(3, 3), figsize=(12,14))\n",
    "# plt.subplots_adjust(wspace = 0.5);\n",
    "# plt.legend(\"upper right\")\n",
    "# plt.show()"
   ]
  },
  {
   "cell_type": "markdown",
   "metadata": {},
   "source": [
    "> * Extension on regplot ​​- `Unit 6`\n"
   ]
  },
  {
   "cell_type": "markdown",
   "metadata": {},
   "source": [
    "### >> bin --> category , category -->bin"
   ]
  },
  {
   "cell_type": "code",
   "execution_count": 10,
   "metadata": {},
   "outputs": [],
   "source": [
    "# Turning values into categories\n",
    "#לשמור את אותה עמודה כערך בינארי\n",
    "#data['column'] = data['column'].astype('category').cat.codes\n",
    "\n",
    "#לשמור עמודה חדשה כערך בינארי זהה לעמודה המסוימת\n",
    "#data['newcolumn'] = data['column'].astype('category').cat.codes"
   ]
  },
  {
   "cell_type": "code",
   "execution_count": 79,
   "metadata": {},
   "outputs": [],
   "source": [
    "# Turning categories into bin\n",
    "\n",
    "#new_column = pd.get_dummies(data['categories_column'])"
   ]
  },
  {
   "cell_type": "markdown",
   "metadata": {},
   "source": [
    "> * Extension on bin and category ​​- `tirgul 8`\n"
   ]
  },
  {
   "cell_type": "markdown",
   "metadata": {},
   "source": [
    "### >> corr"
   ]
  },
  {
   "cell_type": "code",
   "execution_count": 80,
   "metadata": {},
   "outputs": [],
   "source": [
    "#data.corr(method='pearson')\n",
    "#data.corr(method='spearman')\n",
    "#data.corr(method='kendall')\n"
   ]
  },
  {
   "cell_type": "code",
   "execution_count": 17,
   "metadata": {},
   "outputs": [],
   "source": [
    "#show the corr:\n",
    "#sns.heatmap(data=correlation_data,cmap='Greens', annot=True)\n",
    "#annot = true ---> להציג ערך בתצוגה\n",
    "\n",
    "\n",
    "\n",
    "# taucor = pd.DataFrame(movie_df, columns = ['imdb_votes','runtime per min','broadcast_from_year',\"awards\"])\n",
    "# corrs = taucor.corr(method = 'kendall')\n",
    "\n",
    "# plt.figure(figsize=(10,10))\n",
    "# sns.heatmap(corrs, cmap='coolwarm', center=0, annot=True);"
   ]
  },
  {
   "cell_type": "markdown",
   "metadata": {},
   "source": [
    "> * Extension on corr ​​- `Unit 5`\n"
   ]
  },
  {
   "cell_type": "markdown",
   "metadata": {},
   "source": [
    "### >> decition tree"
   ]
  },
  {
   "cell_type": "markdown",
   "metadata": {},
   "source": [
    "# 1. SVM model - linear classification"
   ]
  },
  {
   "cell_type": "code",
   "execution_count": 82,
   "metadata": {},
   "outputs": [],
   "source": [
    "#features = ['column1', 'column2', 'column3', 'column4']\n",
    "#X = data[features]\n",
    "#y = data['class']\n",
    "#X_train, X_test, y_train, y_test = sk.model_selection.train_test_split(X, y, test_size=0.3, random_state=1) "
   ]
  },
  {
   "cell_type": "code",
   "execution_count": 83,
   "metadata": {},
   "outputs": [],
   "source": [
    "#from sklearn.svm import SVC\n",
    "#svm_model = SVC(random_state = 0)\n",
    "#svm_model.fit(X_train, y_train)\n",
    "#svm_pred = svm_model.predict(X_test)\n",
    "#sk.metrics.accuracy_score(svm_pred, y_test)"
   ]
  },
  {
   "cell_type": "markdown",
   "metadata": {},
   "source": [
    "# 2. Decision trees - nonlinear classification"
   ]
  },
  {
   "cell_type": "code",
   "execution_count": 84,
   "metadata": {},
   "outputs": [],
   "source": [
    "\n",
    "#from sklearn import tree\n",
    "#dt = sk.tree.DecisionTreeClassifier(random_state=0)\n",
    "#dt.fit(X_train, y_train)\n",
    "#pred = dt.predict(X_test)\n",
    "#acc = sk.metrics.accuracy_score(pred, y_test)\n",
    "#acc"
   ]
  },
  {
   "cell_type": "markdown",
   "metadata": {},
   "source": [
    "> * Extension on Decision tree ​​- `Unit 8`\n"
   ]
  },
  {
   "cell_type": "code",
   "execution_count": 85,
   "metadata": {},
   "outputs": [],
   "source": [
    "#model = DecisionTreeClassifier(random_state=42)\n",
    "\n",
    "#model.fit(X_train,y_train)\n",
    "#print(\"Depth:\",model.get_depth())\n",
    "#eval(X_test,y_test,model)"
   ]
  },
  {
   "cell_type": "markdown",
   "metadata": {},
   "source": [
    "> * Extension on Decision tree ​​- `tirgul 8`\n"
   ]
  },
  {
   "cell_type": "markdown",
   "metadata": {},
   "source": [
    "# Evaluation function"
   ]
  },
  {
   "cell_type": "code",
   "execution_count": 86,
   "metadata": {},
   "outputs": [],
   "source": [
    "def eval(x,y,model):\n",
    "    pred = model.predict(x)\n",
    "    y_alt=y.values.reshape((-1,1))\n",
    "    print(\"Acc: {:.3f}\".format((pred == y_alt).mean()))\n",
    "    print(\"MSE: {:.3f}\".format(mse(pred,y,squared=False)))   \n",
    "    print(\"Classified {:.3f}% as sick, where the in the true data {:} where sick.\".format(100*(pred>0).sum()/len(pred),(y.values>0).sum()))"
   ]
  },
  {
   "cell_type": "code",
   "execution_count": 4,
   "metadata": {},
   "outputs": [],
   "source": [
    "#במידה וקופצת אזהרה\n",
    "#pd.options.mode.chained_assignment = None  \n",
    "# default='warn'"
   ]
  },
  {
   "cell_type": "markdown",
   "metadata": {},
   "source": [
    "### חיתוך ושמירה של דטה פריים לפי ערך מסוים בעמודה \n"
   ]
  },
  {
   "cell_type": "code",
   "execution_count": 18,
   "metadata": {},
   "outputs": [],
   "source": [
    "# series_df = disney_df[disney_df['type']==\"series\"].reset_index(drop = True)\n",
    "# movie_df = disney_df[disney_df['type']==\"movie\"].reset_index(drop = True)"
   ]
  },
  {
   "cell_type": "markdown",
   "metadata": {},
   "source": [
    "### החלפת ערכים בעמודה מסוימת בערך אחר"
   ]
  },
  {
   "cell_type": "code",
   "execution_count": null,
   "metadata": {},
   "outputs": [],
   "source": [
    "# disney_df['runtime'] = disney_df['runtime'].str.replace('min', '')\n",
    "# disney_df['runtime'] = disney_df['runtime'].str.replace('1 h', '')"
   ]
  },
  {
   "cell_type": "markdown",
   "metadata": {},
   "source": [
    "### שינוי שם לעמודה"
   ]
  },
  {
   "cell_type": "code",
   "execution_count": null,
   "metadata": {},
   "outputs": [],
   "source": [
    "# disney_df = disney_df.rename(columns= {'runtime':'runtime per min'})"
   ]
  },
  {
   "cell_type": "markdown",
   "metadata": {},
   "source": [
    "### הגדרת עמודה בתור טיפוס אחר, חשוב קודם כל לוודא שאין ערכים ריקים"
   ]
  },
  {
   "cell_type": "code",
   "execution_count": null,
   "metadata": {},
   "outputs": [],
   "source": [
    "# temp_series = temp_series.astype({\"runtime per min\":int})"
   ]
  },
  {
   "cell_type": "markdown",
   "metadata": {},
   "source": [
    "### איחוד בין 2 דטה פריימים"
   ]
  },
  {
   "cell_type": "code",
   "execution_count": null,
   "metadata": {},
   "outputs": [],
   "source": [
    "# disney_df = pd.concat([temp_series,temp_movie])"
   ]
  },
  {
   "cell_type": "markdown",
   "metadata": {},
   "source": [
    "### הפיכה של עמודה לדייטיים , לאחר מכן אפשר להציג רק את החודש/שנה/יום/שעה וכו"
   ]
  },
  {
   "cell_type": "code",
   "execution_count": 22,
   "metadata": {},
   "outputs": [],
   "source": [
    "# b1[\"Date\"] = pd.to_datetime(b1[\"Date\"])\n",
    "# b1['month'] = pd.DatetimeIndex(b1.Date).month\n",
    "# d1 = b1.loc[(b1.month == 9)]\n",
    "# d1[\"Total Bags\"].sum()"
   ]
  },
  {
   "cell_type": "markdown",
   "metadata": {},
   "source": [
    "### מחיקת עמודה"
   ]
  },
  {
   "cell_type": "code",
   "execution_count": 23,
   "metadata": {},
   "outputs": [],
   "source": [
    "# disney_df = disney_df.drop('year', axis=1)"
   ]
  },
  {
   "cell_type": "markdown",
   "metadata": {},
   "source": [
    "### שמירה של עמודה כשנרצה ערכים מספריים מעל גבול מסוים"
   ]
  },
  {
   "cell_type": "code",
   "execution_count": null,
   "metadata": {},
   "outputs": [],
   "source": [
    "# movie_df = movie_df[movie_df[\"broadcast_from_year\"] >= 1985].reset_index(drop = True)"
   ]
  }
 ],
 "metadata": {
  "kernelspec": {
   "display_name": "Python 3",
   "language": "python",
   "name": "python3"
  },
  "language_info": {
   "codemirror_mode": {
    "name": "ipython",
    "version": 3
   },
   "file_extension": ".py",
   "mimetype": "text/x-python",
   "name": "python",
   "nbconvert_exporter": "python",
   "pygments_lexer": "ipython3",
   "version": "3.8.3"
  }
 },
 "nbformat": 4,
 "nbformat_minor": 4
}
