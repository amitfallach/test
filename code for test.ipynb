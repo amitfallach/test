{
 "cells": [
  {
   "cell_type": "markdown",
   "metadata": {},
   "source": [
    "# לא לשכוח בתחילת קובץ לעשות copy() !!!!!!!!!!!!!!!!!!!!!!!!!!!!!!1"
   ]
  },
  {
   "cell_type": "markdown",
   "metadata": {},
   "source": [
    "### >>all the import:"
   ]
  },
  {
   "cell_type": "code",
   "execution_count": 54,
   "metadata": {
    "jupyter": {
     "source_hidden": true
    }
   },
   "outputs": [],
   "source": [
    "import pandas as pd\n",
    "import numpy as np\n",
    "import matplotlib.pyplot as plt\n",
    "import seaborn as sns\n",
    "import sklearn as sk\n",
    "from sklearn import tree\n",
    "from sklearn.tree import DecisionTreeClassifier\n",
    "from sklearn.model_selection import train_test_split\n",
    "from sklearn.metrics import mean_squared_error as mse"
   ]
  },
  {
   "cell_type": "code",
   "execution_count": 3,
   "metadata": {},
   "outputs": [
    {
     "name": "stdout",
     "output_type": "stream",
     "text": [
      "Requirement already up-to-date: seaborn in c:\\users\\amitf\\anaconda3\\lib\\site-packages (0.11.1)\n",
      "Requirement already satisfied, skipping upgrade: matplotlib>=2.2 in c:\\users\\amitf\\anaconda3\\lib\\site-packages (from seaborn) (3.2.2)\n",
      "Requirement already satisfied, skipping upgrade: pandas>=0.23 in c:\\users\\amitf\\anaconda3\\lib\\site-packages (from seaborn) (1.0.5)\n",
      "Requirement already satisfied, skipping upgrade: numpy>=1.15 in c:\\users\\amitf\\anaconda3\\lib\\site-packages (from seaborn) (1.18.5)\n",
      "Requirement already satisfied, skipping upgrade: scipy>=1.0 in c:\\users\\amitf\\anaconda3\\lib\\site-packages (from seaborn) (1.5.0)\n",
      "Requirement already satisfied, skipping upgrade: kiwisolver>=1.0.1 in c:\\users\\amitf\\anaconda3\\lib\\site-packages (from matplotlib>=2.2->seaborn) (1.2.0)\n",
      "Requirement already satisfied, skipping upgrade: pyparsing!=2.0.4,!=2.1.2,!=2.1.6,>=2.0.1 in c:\\users\\amitf\\anaconda3\\lib\\site-packages (from matplotlib>=2.2->seaborn) (2.4.7)\n",
      "Requirement already satisfied, skipping upgrade: cycler>=0.10 in c:\\users\\amitf\\anaconda3\\lib\\site-packages (from matplotlib>=2.2->seaborn) (0.10.0)\n",
      "Requirement already satisfied, skipping upgrade: python-dateutil>=2.1 in c:\\users\\amitf\\anaconda3\\lib\\site-packages (from matplotlib>=2.2->seaborn) (2.8.1)\n",
      "Requirement already satisfied, skipping upgrade: pytz>=2017.2 in c:\\users\\amitf\\anaconda3\\lib\\site-packages (from pandas>=0.23->seaborn) (2020.1)\n",
      "Requirement already satisfied, skipping upgrade: six in c:\\users\\amitf\\anaconda3\\lib\\site-packages (from cycler>=0.10->matplotlib>=2.2->seaborn) (1.15.0)\n",
      "Note: you may need to restart the kernel to use updated packages.\n"
     ]
    }
   ],
   "source": [
    "pip install -U seaborn"
   ]
  },
  {
   "cell_type": "markdown",
   "metadata": {},
   "source": [
    "### >>tables:\n"
   ]
  },
  {
   "cell_type": "markdown",
   "metadata": {},
   "source": [
    "### 1.pivot table\n",
    "מסדר טבלה חדשה של עמודה אחת ביחס לכמה עמודות אחרות, המדידה היא ביחס לעמודה שנבחר, הדיפולט זה ממוצע, כדי לשנות דיפולט נכתוב את הפעולה הרצויה בaggfunc "
   ]
  },
  {
   "cell_type": "code",
   "execution_count": 6,
   "metadata": {},
   "outputs": [],
   "source": [
    "#Data.pivot_table('name of the data column', index='(שורות)אנכי', columns='(עמודות )אופקי, aggfunc={'my data column':sum} )\n",
    "#מימוש = data.pivot_table(['שמות העמודות שאותך נרצה למדוד מופרד בפסיקים'],\"שם העמודה שנמדוד ביחס אליה\")\n",
    "\n",
    "#כאשר אני לא כותב כלום הברירת מחדל זה ממוצע כאשר אני כותה בצורה הזאת אפשר להכניס  ערכים שהם לא מספריים גם\n",
    "#הפונקציה ראונד מעגלת את המספרים העשרוניים\n",
    "# data.pivot_table(index = ['Position','Weight'], values =['Salary'] , aggfunc = sum).round(1)\n"
   ]
  },
  {
   "cell_type": "markdown",
   "metadata": {},
   "source": [
    "### groupby עושה טבלה מעמודות ספציפיות "
   ]
  },
  {
   "cell_type": "code",
   "execution_count": 7,
   "metadata": {},
   "outputs": [],
   "source": [
    "#Data.groupby(['column1', 'column2'])[['data-column']].aggregate('mean').unstack()\n",
    "#a1 = data.groupby([\"region\",\"year\"])[[\"total_sold\"]].sum()\n",
    "\n",
    "#דבר ראשון הוספת עמודה חדשה לדאטה\n",
    "#בעזרת הפונקציה אני אומר לו קח את הקבוצות לפי השמות של השחקנים ועליהם תוסיף את הערכים החסרים\n",
    "\n",
    "# basketball[\"aviel\"]=basketball.groupby(\"Name\")[[\"College\"]].apply(lambda x: x.fillna(method=\"bfill\"))\n",
    "# basketball.iloc[0:12,]"
   ]
  },
  {
   "cell_type": "markdown",
   "metadata": {},
   "source": [
    "### >>Conditional selection"
   ]
  },
  {
   "cell_type": "markdown",
   "metadata": {},
   "source": [
    "### str.contains\\loc"
   ]
  },
  {
   "cell_type": "code",
   "execution_count": 21,
   "metadata": {},
   "outputs": [],
   "source": [
    "#נותן לחפש את הערך הרצוי בעמודה מסוימת רק אם הוא סטרינג !\n",
    "#בשביל להשתמש בפונקציה אסור שיהיה ערכים חסרים\n",
    "\n",
    "#data[data.column.str.contains(\"value\")]\n",
    "\n",
    "#מציג לי 2 תנאים ביחד\n",
    "# data[(data['column1'].str.contains(\"value\")) & (data['column2'].str.contains(\"value\"))]\n",
    "\n",
    "#עובד עם כל סוגי המידע(סטרינג מסםר וכו...),חיפוש ערך בעמודה מסוימת לפי שם הערך\n",
    "\n",
    "\n",
    "# לוקח את כל הערכים לפי עמודה מסוימת מערכים גדולים מערך כלשהו.\n",
    "# data1 = data[data.loc[:,'column'] > num ]\n",
    "#data.loc[data.column == \"value\"]\n",
    "#data = data[data.column_name == int value]"
   ]
  },
  {
   "cell_type": "markdown",
   "metadata": {},
   "source": [
    "###   הפונקציה בעצם נותנת לי טווח של דברים לדוגמא הגילאים היא מפרידה לי אותם ל2 חלקים לפי עמודה "
   ]
  },
  {
   "cell_type": "code",
   "execution_count": 12,
   "metadata": {},
   "outputs": [],
   "source": [
    "# #הפונקציה בעצם נותנת לי טווח של דברים לדוגמא הגילאים היא מפרידה לי אותם ל2 חלקים\n",
    "# # data1 = pd.cut(data['culomn'], [טווח עליון, טווח אמצעי, טווח תחתון])\n",
    "\n",
    "# #כאן אני עושה ממוצע לעמודה מספרית לפי הטווח שקבענו של כל קטגוריה בעמודה האחרונה\n",
    "# data.pivot_table('עמודה לה נעשה ממוצע', [ data1], 'עמודה קטגורית')"
   ]
  },
  {
   "cell_type": "markdown",
   "metadata": {},
   "source": [
    "##### 2.str.statwith"
   ]
  },
  {
   "cell_type": "code",
   "execution_count": 3,
   "metadata": {},
   "outputs": [],
   "source": [
    "#למצוא סטרינג שמתחיל בתו כלשהו בעמודה מסוימת\n",
    "\n",
    "#data[data[\"column\"].str.startswith((\"K\"))]"
   ]
  },
  {
   "cell_type": "markdown",
   "metadata": {},
   "source": [
    "### סידור ערכים ריקים מכל הכיוונים בעמודות מסוימות"
   ]
  },
  {
   "cell_type": "code",
   "execution_count": 8,
   "metadata": {},
   "outputs": [],
   "source": [
    "#ממיין את העמודה שביקשתי מהקטן לגדול זו הברירת מחדל במקרה שלנו כאשר הוספתי את אקסידנג זה הפוך וממין מהגדול לקטן \n",
    "# data.sort_values(by='columns', ascending = False).head()\n"
   ]
  },
  {
   "cell_type": "markdown",
   "metadata": {},
   "source": [
    "### ערכים ריקים "
   ]
  },
  {
   "cell_type": "code",
   "execution_count": 60,
   "metadata": {},
   "outputs": [],
   "source": [
    "#for all data\n",
    "#data.isnull().sum().sort_values()"
   ]
  },
  {
   "cell_type": "markdown",
   "metadata": {},
   "source": [
    "### הורדת שורות עם ערכים ריקים מכמות מסוימת של ערכים"
   ]
  },
  {
   "cell_type": "code",
   "execution_count": null,
   "metadata": {},
   "outputs": [],
   "source": [
    "# basketball.dropna(subset =['Name']).count()\n",
    "# #הורדת ערך חסר אם יש לי יותר מ3 ערכים חסרים בשורה אני יכול לקבוע את המספר \n",
    "# basketball.dropna(thresh=3)"
   ]
  },
  {
   "cell_type": "markdown",
   "metadata": {},
   "source": [
    "### בעמודה ספציפיית"
   ]
  },
  {
   "cell_type": "code",
   "execution_count": 61,
   "metadata": {},
   "outputs": [],
   "source": [
    "#for specific column\n",
    "#data['column'].isnull().sum()\n",
    "#data['column'].notnull().sum()"
   ]
  },
  {
   "cell_type": "markdown",
   "metadata": {},
   "source": [
    "### הסרת ערכים ריקים"
   ]
  },
  {
   "cell_type": "code",
   "execution_count": 62,
   "metadata": {},
   "outputs": [],
   "source": [
    "#for all data\n",
    "#data = data.dropna()"
   ]
  },
  {
   "cell_type": "markdown",
   "metadata": {},
   "source": [
    "### בעמודה ספציפית"
   ]
  },
  {
   "cell_type": "code",
   "execution_count": 63,
   "metadata": {},
   "outputs": [],
   "source": [
    "#for specific column\n",
    "#data.dropna(subset = ['column']).count()"
   ]
  },
  {
   "cell_type": "markdown",
   "metadata": {},
   "source": [
    "### מילוי ערכים ריקים"
   ]
  },
  {
   "cell_type": "code",
   "execution_count": 5,
   "metadata": {},
   "outputs": [],
   "source": [
    "# #הדיפולט זה לא נכון ואז זה לא שומר,כאשר אני משנה את זה לנכון זה נשאר ובכל מקום שיש לי ערך חסר ממלא לי 0\n",
    "#data[\"column\"].fillna('k', inplace = False)\n",
    "# נגיד 59 זה ערך חסר אז הוא ימלא את זה בערך האחרון שהוא לא חסר לדוג ב58 אם הוא לא חסר\n",
    "# data[['column']].fillna(method='ffill')\n",
    "# בדיוק הפוך ממלא את הערך החסר בערך הראשון שאחרי הערך החסר\n",
    "# data[['column']].fillna(method='bfill')\n",
    "# מילוי ערכים חסרים בצורה לינארית\n",
    "# # data['column'] = data[['column']].interpolate(method ='linear') \n"
   ]
  },
  {
   "cell_type": "markdown",
   "metadata": {},
   "source": [
    "### get dummies הופך קטגורי לבינארי"
   ]
  },
  {
   "cell_type": "code",
   "execution_count": 10,
   "metadata": {},
   "outputs": [],
   "source": [
    "#הפונקציה הופכת ערך קטגורי לבינארי היא לוקחת את כל הערכים בעמודה הקטגורית והופכת כל אחד מהם לעמודה נפרדת שבה הוא מקבל או אפס או 1\n",
    "#שמתי כאן גם ערך מספרי כדי להראות שהוא לא משתנה בכלל רק ערך קטגורי\n",
    "# features2=['column1','column2']\n",
    "# data_get = pd.get_dummies(data[features2])\n",
    "# data_get"
   ]
  },
  {
   "cell_type": "markdown",
   "metadata": {},
   "source": [
    "> * Extension on Missing Values ​​- `Unit 3`\n"
   ]
  },
  {
   "cell_type": "markdown",
   "metadata": {},
   "source": [
    "#  Visualization"
   ]
  },
  {
   "cell_type": "markdown",
   "metadata": {},
   "source": [
    "### countplot=כותבים רק בציר אחד בציר איקס הוא נותן את הערכים ובציר ווי את מס מופעים\n",
    "\n",
    "### barplot=כותבים גם ציר איקס וגם ציר ווי  \n",
    "\n",
    "### catplot=זה בדיוק אותו דבר כמו 2 הקודמים רק אני כותב \n",
    "\n",
    "### kind=\"count\" נותן לי קאונטפלוט\n",
    "### kind=\"bar\"   נותן לי ברפלוט"
   ]
  },
  {
   "cell_type": "code",
   "execution_count": null,
   "metadata": {},
   "outputs": [],
   "source": []
  },
  {
   "cell_type": "code",
   "execution_count": null,
   "metadata": {},
   "outputs": [],
   "source": []
  },
  {
   "cell_type": "markdown",
   "metadata": {},
   "source": [
    "## 1. scatterplot:\n",
    "גרף שמראה עלייה\\ ירידה של נתונים בין 2 עמודות, מתאים אחרי קרולציה לנתונים בדידים בדגש על בדידים !! מראה נקודות "
   ]
  },
  {
   "cell_type": "code",
   "execution_count": 65,
   "metadata": {},
   "outputs": [],
   "source": [
    "#קישור לויזואליזציות שונות\n",
    "#https://seaborn.pydata.org/examples/index.html"
   ]
  },
  {
   "cell_type": "code",
   "execution_count": 66,
   "metadata": {},
   "outputs": [],
   "source": [
    "#seaborn\n",
    "#sns.scatterplot(data=data, x=\"Xcolumn\", y=\"Ycolumn\", hue = 'ניתן לשים שם של עמודה וזה יעשה צבע לכל ערך',sizes=(1, 8))"
   ]
  },
  {
   "cell_type": "code",
   "execution_count": 67,
   "metadata": {},
   "outputs": [],
   "source": [
    "#panda\n",
    "#data.plot.scatter(x = 'Xcolumn', y = 'Ycolumn')"
   ]
  },
  {
   "cell_type": "code",
   "execution_count": 25,
   "metadata": {},
   "outputs": [],
   "source": [
    "#מציג נקודות וקשר בין 2 משתנים\n",
    "#מראה לי גרף פיזור\n",
    "# basketball.plot.scatter(x = 'Weight', y = 'Salary', alpha=0.5)\n",
    "\n",
    "\n",
    "#עוד דרך הצגה עם צבעים\n",
    "#hue=יוצר קורולציה על פי הגילאים וככה הוא מציג אותם כל גיל בצבע אחר\n",
    "# sns.scatterplot(data=basketball, x='Weight', y='Salary',hue=\"Age\")\n",
    "\n",
    "\n",
    "\n",
    "## הHUE אומר לפי איזה עמודה נחלק צבעים, לדוגמא אם יש לי עמודה של מין אז יהיה 2 צבעים של נשים גברים\n",
    "\n",
    "\n",
    "# sns.set_style(\"whitegrid\", {'grid.linestyle': '--'})\n",
    "# plt.figure(figsize = (10,6))\n",
    "# sns.scatterplot(x = \"age\", y = \"expenses\", data = insurance, hue = \"sex\")\n",
    "# plt.xlabel(\"Age\")\n",
    "# plt.ylabel(\"expenses\")\n",
    "# plt.title(\"Distribution of charges by age and sex\")"
   ]
  },
  {
   "cell_type": "markdown",
   "metadata": {},
   "source": [
    "#### strip plot\n",
    "מראה כמה גרפים אחד ליד השני עם נקודות, ז\"א נתונים בדידים ככה שאפשר לראות צפיפות ביחס בין 2 עמודות מסוימות"
   ]
  },
  {
   "cell_type": "code",
   "execution_count": 5,
   "metadata": {},
   "outputs": [],
   "source": [
    "# sns.stripplot(x=\"numrated\" , y='runtime per min', data=movie_df)          \n",
    "# plt.show()"
   ]
  },
  {
   "cell_type": "markdown",
   "metadata": {},
   "source": [
    "#### 2.barplot:\n",
    "הצגה של נתונים רציפים לפי צבעים. מתאים להשוואה לפי ממוצע,סכום וכו."
   ]
  },
  {
   "cell_type": "code",
   "execution_count": 19,
   "metadata": {},
   "outputs": [],
   "source": [
    "#seaborn\n",
    "#sns.barplot(ax = axes[]\"במידה וזה במטריצה נרשום מיקום\", x=\"Xcolumn\", y=\"Ycolumn\",  data=data)\n",
    "#sns.catplot(ax = axes[]\"במידה וזה במטריצה נרשום מיקום\", data=data, kind=\"bar\",x=\"Xcolumn\",y = \"ycolumn\")\n",
    "\n",
    "# plt.show()"
   ]
  },
  {
   "cell_type": "markdown",
   "metadata": {},
   "source": [
    "#### 3. countplot:\n",
    "מיועד לסכימה של דטה והשוואה בין עמודות ספציפיות או ערכים מסוימים, אם זה מספר של עמודות נעשה מטריצה"
   ]
  },
  {
   "cell_type": "code",
   "execution_count": 69,
   "metadata": {},
   "outputs": [],
   "source": [
    "#seaborn\n",
    "#sns.countplot(ax = axes[]\"במידה וזה במטריצה נרשום מיקום\", x=\"Xcolumn\", data=data)\n",
    "#sns.catplot(ax = axes[]\"במידה וזה במטריצה נרשום מיקום\" , x=\"Xcolumn\", kind=\"count\", data=data)\n",
    "\n",
    "#בציר איקס יש לי את האינדקסים ובציר ווי יש לי את הכמות מופעים וזה מסודר בסדר יורד לפי האינדקסים\n",
    "#ניתן לכתוב במוקם איקס ווי ואז זה יהיה לי מוצג מצד שמאל לימין\n",
    "#palette=\"Set3\"=משנה לי את הצבע\n",
    "# sns.set(style='darkgrid')\n",
    "# plt.figure(figsize=(6,4)) \n",
    "# sns.countplot(x=\"Position\", palette=\"Set3\",data=basketball,order = basketball['Position'].value_counts().index)"
   ]
  },
  {
   "cell_type": "markdown",
   "metadata": {},
   "source": [
    "#### 4. catplot: גרף עם צבעים לערכין רציפים"
   ]
  },
  {
   "cell_type": "code",
   "execution_count": 22,
   "metadata": {},
   "outputs": [],
   "source": [
    "##sns.catplot(x=\"Xcolumn\", y=\"Ycolumn\", hue=\"נותן אופציה למלא שם עמודה וזה יפצל לצבעים את הערכים לפי העמודה הזאת,לא חובה\", kind=\"סוג השרטוט\", data=data)\n",
    "# sns.catplot(data=e1, kind=\"bar\",x=\"type\",y = \"total_sold\")\n",
    "#טווח של המספרים בציר ווי\n",
    "# plt.ylim(0,1.0*1e7)\n",
    "# plt.xlim(0,1.0*1e7)\n",
    "# plt.show()"
   ]
  },
  {
   "cell_type": "markdown",
   "metadata": {},
   "source": [
    "### 5. histogram:"
   ]
  },
  {
   "cell_type": "code",
   "execution_count": 71,
   "metadata": {},
   "outputs": [],
   "source": [
    "#data.hist('column')"
   ]
  },
  {
   "cell_type": "code",
   "execution_count": 13,
   "metadata": {},
   "outputs": [],
   "source": [
    "#data.plot.hist(bins=20, alpha=0.7)\n",
    "# data.hist(bins=50,alpha=0.5)"
   ]
  },
  {
   "cell_type": "markdown",
   "metadata": {},
   "source": [
    "### היסטוגרמה של 2 עמודות"
   ]
  },
  {
   "cell_type": "code",
   "execution_count": null,
   "metadata": {},
   "outputs": [],
   "source": [
    "# data[['column1','column2']].plot.hist(bins=50)"
   ]
  },
  {
   "cell_type": "markdown",
   "metadata": {},
   "source": [
    "### של מטלב"
   ]
  },
  {
   "cell_type": "code",
   "execution_count": 73,
   "metadata": {},
   "outputs": [],
   "source": [
    "#plt.hist(male['math score'], alpha=0.4, label='male')\n",
    "#plt.hist(female['math score'], alpha=0.4, label='female')\n",
    "#plt.legend(loc='upper right')\n"
   ]
  },
  {
   "cell_type": "markdown",
   "metadata": {},
   "source": [
    "> * Extension on hist ​​- `Unit 4`,`tirgul 9`\n"
   ]
  },
  {
   "cell_type": "markdown",
   "metadata": {},
   "source": [
    "#### 6. boxplot:"
   ]
  },
  {
   "cell_type": "code",
   "execution_count": 26,
   "metadata": {},
   "outputs": [],
   "source": [
    "#panda\n",
    "#data['column'].plot(kind='box', figsize=(3,4), patch_artist=True)\n",
    "#patch_artist = true ---> ממלא את הקופסא בצבע\n",
    "#חציון באמצע\n",
    "#data.boxplot(column=['column'], patch_artist=True)\n",
    "\n",
    "## גרף שמשווה בין בוקפלוטים\n",
    "#בוקספלוט של העמדות בציר איקס ביחס לשכר בציר ווי\n",
    "# plt.figure(figsize=(8,4))\n",
    "# ax=sns.boxplot(x='Position', y='Salary', data=basketball);\n",
    "# #המלל בציר איקס באלכסון זה טוב כאשר יש לי מלל גדול ואז לפעמים הכיתוב יוצא אחד על השני\n",
    "# plt.setp(ax.get_xticklabels(), rotation=45)\n",
    "# plt.show()"
   ]
  },
  {
   "cell_type": "code",
   "execution_count": 75,
   "metadata": {},
   "outputs": [],
   "source": [
    "#seaborn\n",
    "#sns.boxplot(y=\"Age\", data=drug_df, linewidth=2.5,color=\"tab:blue\")\n",
    "#sns.boxplot(x=\"Xcolumn\", y=\"Ycolumn\",hue=\"color_column\", palette=[\"m\", \"g\"],data=data)"
   ]
  },
  {
   "cell_type": "markdown",
   "metadata": {},
   "source": [
    "> * Extension on boxplot ​​- `Unit 4`\n"
   ]
  },
  {
   "cell_type": "markdown",
   "metadata": {},
   "source": [
    "#### 6. pie plot:\n",
    "\n",
    "מתאים לעד 2 ערכים"
   ]
  },
  {
   "cell_type": "code",
   "execution_count": 27,
   "metadata": {},
   "outputs": [],
   "source": [
    "#data['column'].value_counts().plot.pie(autopct=\"%1.1f%%\")\n",
    "\n",
    "# כותרת\n",
    "# plt.title(\"title\")"
   ]
  },
  {
   "cell_type": "markdown",
   "metadata": {},
   "source": [
    "#### 7. regplot:\n",
    "קו שמייצג רגרסיה לינארית לנתונים בדידים"
   ]
  },
  {
   "cell_type": "code",
   "execution_count": 15,
   "metadata": {},
   "outputs": [],
   "source": [
    "#sns.regplot(x='Xcolumn', y='Ycolumn', data=data[data['column'] < int])  אם אני רוצה שזה יהיה מתחת\\מעל ערכים ספציפיים מסוימים בעמודה כלשהי\n",
    "# sns.regplot(x='imdb_rating', y=\"metascore\", data=percor)\n",
    "\n",
    "#מוסיף לי כותרות\n",
    "# plt.title('this is a nice title')\n",
    "#מוסיף לי יחידות לאיקס וווי\n",
    "# plt.xlabel('x values')\n",
    "# plt.ylabel('y values')"
   ]
  },
  {
   "cell_type": "markdown",
   "metadata": {},
   "source": [
    "### 8. מטריצה"
   ]
  },
  {
   "cell_type": "code",
   "execution_count": 11,
   "metadata": {},
   "outputs": [],
   "source": [
    "# fig, axes = plt.subplots(1, 3, figsize=(10,5))\n",
    "\n",
    "# sns.stripplot(ax = axes[0], x=\"awards\" , y=\"imdb_rating\", data=movie_df, jitter=0.1)          \n",
    "\n",
    "\n",
    "# sns.stripplot(ax = axes[1], x=\"awards\", y=\"imdb_votes\", data=movie_df, jitter=0.1)\n",
    "\n",
    "\n",
    "# sns.stripplot(ax = axes[2], x=\"awards\", y=\"runtime per min\", data=movie_df, jitter=0.1)\n",
    "\n",
    "#מגדיר את הרווח בין הגרפים\n",
    "# plt.subplots_adjust(wspace = 0.5);\n",
    "\n",
    "# plt.show()\n",
    "\n"
   ]
  },
  {
   "cell_type": "markdown",
   "metadata": {},
   "source": [
    "### צפיפות ,נעשה לפני קרולציות כדיח לבדוק את הדאטה. גרף פעמון פירסון. גרף אחר קנדל טאו "
   ]
  },
  {
   "cell_type": "code",
   "execution_count": 13,
   "metadata": {},
   "outputs": [],
   "source": [
    "# features = ['metascore','imdb_rating','imdb_votes','runtime per min','broadcast_from_year',\"awards\" ]\n",
    "\n",
    "# movie_df[features].plot.density(subplots=True, sharex=False, sharey=False, layout=(3, 3), figsize=(12,14))\n",
    "# plt.subplots_adjust(wspace = 0.5);\n",
    "# plt.legend(\"upper right\")\n",
    "# plt.show()"
   ]
  },
  {
   "cell_type": "markdown",
   "metadata": {},
   "source": [
    "> * Extension on regplot ​​- `Unit 6`\n"
   ]
  },
  {
   "cell_type": "markdown",
   "metadata": {},
   "source": [
    "### cat.codes"
   ]
  },
  {
   "cell_type": "code",
   "execution_count": 10,
   "metadata": {},
   "outputs": [],
   "source": [
    "# Turning values into categories\n",
    "#לשמור את אותה עמודה כערך בינארי\n",
    "#data['column'] = data['column'].astype('category').cat.codes\n",
    "\n",
    "#לשמור עמודה חדשה כערך בינארי זהה לעמודה המסוימת\n",
    "#data['newcolumn'] = data['column'].astype('category').cat.codes"
   ]
  },
  {
   "cell_type": "code",
   "execution_count": 79,
   "metadata": {},
   "outputs": [],
   "source": [
    "# Turning categories into bin\n",
    "\n",
    "#new_column = pd.get_dummies(data['categories_column'])"
   ]
  },
  {
   "cell_type": "markdown",
   "metadata": {},
   "source": [
    "> * Extension on bin and category ​​- `tirgul 8`\n"
   ]
  },
  {
   "cell_type": "markdown",
   "metadata": {},
   "source": [
    "### corr"
   ]
  },
  {
   "cell_type": "code",
   "execution_count": 80,
   "metadata": {},
   "outputs": [],
   "source": [
    "#data.corr(method='pearson')\n",
    "#data.corr(method='spearman')\n",
    "#data.corr(method='kendall')\n"
   ]
  },
  {
   "cell_type": "code",
   "execution_count": 17,
   "metadata": {},
   "outputs": [],
   "source": [
    "#show the corr:\n",
    "#sns.heatmap(data=correlation_data,cmap='Greens', annot=True)\n",
    "#annot = true ---> להציג ערך בתצוגה\n",
    "\n",
    "\n",
    "\n",
    "# taucor = pd.DataFrame(movie_df, columns = ['imdb_votes','runtime per min','broadcast_from_year',\"awards\"])\n",
    "# corrs = taucor.corr(method = 'kendall')\n",
    "\n",
    "# plt.figure(figsize=(10,10))\n",
    "# sns.heatmap(corrs, cmap='coolwarm', center=0, annot=True);"
   ]
  },
  {
   "cell_type": "markdown",
   "metadata": {},
   "source": [
    "### לקיחת 2 הקורלציות הכי גבוהות מההיטמאפ של 4*4 ולמקם אותם בגרפים מטריצה"
   ]
  },
  {
   "cell_type": "code",
   "execution_count": 18,
   "metadata": {},
   "outputs": [],
   "source": [
    "# # מטריצה\n",
    "# fig, axes = plt.subplots(1, 2,figsize = (10,5))\n",
    "\n",
    "# #יצירת רשימה של קורלציות הכי גבוהות מסדר טבלה מההיטמאפ עם אנסטאק\n",
    "# cor456 = cor123.unstack().sort_values(ascending = False)[4:8:2]\n",
    "\n",
    "# #create a list of tapels names with the wanted values.\n",
    "# taplist = pd.Series.keys(cor456)\n",
    "\n",
    "# #create scatterplots according to the indexes of the tapels list\n",
    "# plt1 = sns.scatterplot(ax = axes[0],data=youtubedata, x=taplist[0][0], y=taplist[0][1])\n",
    "# plt2 = sns.scatterplot(ax = axes[1],data=youtubedata, x=taplist[1][0], y=taplist[1][1]"
   ]
  },
  {
   "cell_type": "markdown",
   "metadata": {},
   "source": [
    "> * Extension on corr ​​- `Unit 5`\n"
   ]
  },
  {
   "cell_type": "markdown",
   "metadata": {},
   "source": [
    "## עצי החלטה"
   ]
  },
  {
   "cell_type": "markdown",
   "metadata": {},
   "source": [
    "\n",
    "כאשר אני רוצה לעשות חיזוי על ערך שהוא לא מספרי אני צריך להמיר אותו למספרי אם הערך הוא בינארי אז נהפוך אותו לקטגורי אם הערך הוא לא בינארי נשתמש \n",
    "בפונקציה גט דאמיס\n",
    "\n",
    "יש לי 2 סוגים של חיזוי רגרסור שאני משתמש בו כאשר המשתנים הם רציפים מחיר גובה גילאים וכו הסוג השני זה קלסיפייאר שזה כאשר אני רוצה לחזות משנים לא רציפים כמו מעשן לא מעשן או כמו חתוך עץ וכלב שאין בינהם קשר וכו\n",
    "\n",
    "\n",
    "### יש לשים לב לעומק העץ שיכול לשפר את המודל אבל לא חובה, נדע לפי בדיקה של הדיוק"
   ]
  },
  {
   "cell_type": "markdown",
   "metadata": {},
   "source": [
    "## רציפים, משוכרת ,גיל , גובה דברים שלא חייבים להיות מדויקים - רגרסור"
   ]
  },
  {
   "cell_type": "markdown",
   "metadata": {},
   "source": [
    "### קביעת סוג העץ"
   ]
  },
  {
   "cell_type": "code",
   "execution_count": null,
   "metadata": {},
   "outputs": [],
   "source": [
    "# model = DecisionTreeRegressor(max_depth=max_depth,random_state=4)\n",
    "# features = ['culomn1', 'culomn2', 'culomn3']\n",
    "# X = data[features]\n",
    "# y = data['ביחס לאיזה עמודה נמדוד']\n",
    "# X_train, X_test, y_train, y_test = sk.model_selection.train_test_split(X, y, test_size=0.3, random_state=42) "
   ]
  },
  {
   "cell_type": "markdown",
   "metadata": {},
   "source": [
    "### אימון המודל"
   ]
  },
  {
   "cell_type": "code",
   "execution_count": null,
   "metadata": {},
   "outputs": [],
   "source": [
    "# model.fit(X_train, y_train)"
   ]
  },
  {
   "cell_type": "markdown",
   "metadata": {},
   "source": [
    "### חיזוי"
   ]
  },
  {
   "cell_type": "code",
   "execution_count": null,
   "metadata": {},
   "outputs": [],
   "source": [
    "pred = model.predict(X_test)"
   ]
  },
  {
   "cell_type": "markdown",
   "metadata": {},
   "source": [
    "### הערכת אמינות של המודל ברגרסור זה mse"
   ]
  },
  {
   "cell_type": "code",
   "execution_count": null,
   "metadata": {},
   "outputs": [],
   "source": [
    "def mse(a,b):\n",
    "    return np.sqrt(np.square(a-b).mean())\n",
    "\n",
    "mse(y_test.values,pred)"
   ]
  },
  {
   "cell_type": "markdown",
   "metadata": {},
   "source": [
    "### יער של עצים לרגרסור"
   ]
  },
  {
   "cell_type": "code",
   "execution_count": 2,
   "metadata": {},
   "outputs": [],
   "source": [
    "# from sklearn.ensemble import RandomForestRegressor\n",
    "# from sklearn.datasets import make_regression\n",
    "\n",
    "# regr = RandomForestRegressor(n_estimators=100,max_depth=10, random_state=42)\n",
    "# print('Fitting model...')\n",
    "# regr.fit(X_train, y_train)\n",
    "\n",
    "# print(\"Making predictions for the following 5 houses:\")\n",
    "# print(\"The predictions are\")\n",
    "\n",
    "# test_pred = regr.predict(X_test)\n",
    "# print(test_pred)\n",
    "# print(\"MSE: {:.3f}\".format(mse(y_test.values,test_pred)))"
   ]
  },
  {
   "cell_type": "markdown",
   "metadata": {},
   "source": [
    "### ברגע שהmse יותר קטן המודל יותר טוב"
   ]
  },
  {
   "cell_type": "markdown",
   "metadata": {},
   "source": [
    "##  נתונים שחייבים להיות מדויקים כמו צבע מין מיקום מגורים וכו מודל קלאספייר- מנבא קלאס"
   ]
  },
  {
   "cell_type": "markdown",
   "metadata": {},
   "source": [
    "### הגדרת המודל"
   ]
  },
  {
   "cell_type": "code",
   "execution_count": null,
   "metadata": {},
   "outputs": [],
   "source": [
    "# model = sk.tree.DecisionTreeClassifier(criterion=\"gini\", max_depth=max_depth, random_state=0)"
   ]
  },
  {
   "cell_type": "code",
   "execution_count": null,
   "metadata": {},
   "outputs": [],
   "source": [
    "# features = ['culomn1', 'culomn2', 'culomn3']\n",
    "# X = data[features]\n",
    "# y = data['ביחס לאיזה עמודה נמדוד']\n",
    "# X_train, X_test, y_train, y_test = sk.model_selection.train_test_split(X, y, test_size=0.3, random_state=42) העמודה אותה רוצים לנבא"
   ]
  },
  {
   "cell_type": "markdown",
   "metadata": {},
   "source": [
    "### אימון הדאטה"
   ]
  },
  {
   "cell_type": "code",
   "execution_count": 33,
   "metadata": {},
   "outputs": [],
   "source": [
    "# model1.fit(X_train,y_train)"
   ]
  },
  {
   "cell_type": "markdown",
   "metadata": {},
   "source": [
    "### חיזוי"
   ]
  },
  {
   "cell_type": "code",
   "execution_count": null,
   "metadata": {},
   "outputs": [],
   "source": [
    "prediction = model1.predict(X_test)\n",
    "prediction "
   ]
  },
  {
   "cell_type": "markdown",
   "metadata": {},
   "source": [
    "### דיוק זה אקיוריסי"
   ]
  },
  {
   "cell_type": "code",
   "execution_count": null,
   "metadata": {},
   "outputs": [],
   "source": [
    "# sk.metrics.accuracy_score(prediction2, y_test)- נותן דיוק של המודל בין 0-1, נשתמש בדיוק זה רק כאשר מדובר על חיזוי קלאס שהוא בדיד\n",
    "\n",
    "# sk.metrics.plot_confusion_matrix(model2, X_test, y_test, cmap=plt.cm.Blues)- מטריצה של הממצאים- היכן המודל צדק והיכן טעה"
   ]
  },
  {
   "cell_type": "markdown",
   "metadata": {},
   "source": [
    "## יער של עצים משפר את המודל שייך לקלאספייר הכי מומלץ !"
   ]
  },
  {
   "cell_type": "code",
   "execution_count": null,
   "metadata": {},
   "outputs": [],
   "source": [
    "# random forest:\n",
    "    \n",
    "# from sklearn.ensemble import RandomForestClassifier\n",
    "\n",
    "# rf = RandomForestClassifier(max_depth=9, random_state=0, criterion=\"gini\")\n",
    "# rf.fit(X_train, y_train)\n",
    "# predrf = rf.predict(X_test)\n",
    "# acc = sk.metrics.accuracy_score(predrf, y_test)\n",
    "# acc\n"
   ]
  },
  {
   "cell_type": "markdown",
   "metadata": {},
   "source": [
    "## מודל svm "
   ]
  },
  {
   "cell_type": "code",
   "execution_count": null,
   "metadata": {},
   "outputs": [],
   "source": [
    "#from sklearn.svm import SVC\n",
    "#svm_model = SVC(random_state = 0)\n",
    "#svm_model.fit(X_train, y_train)\n",
    "#svm_pred = svm_model.predict(X_test)\n",
    "#sk.metrics.accuracy_score(svm_pred, y_test)"
   ]
  },
  {
   "cell_type": "markdown",
   "metadata": {},
   "source": [
    "## Evaluation function\n",
    "\n",
    "פונקציה שמראה לי באיזה עומק יהיה החיזוי הכי טוב מה שהיא מציגה לי זה השגיאה הממוצעת בריבוע ככל שהשגיאה יותר קטנה החיזוי יותר טוב ומראה לי גם האם יש קשר בין מה שרציתי לחזות כאשר זה 0 זה אומר שהשורה המקורית ומה שרציתי לחזות הם לא אותו דבר וככל שזה עולה זה אומר שהם מתקרבים ואותו דבר 100 זה שזה בדיוק אותה תוצאה "
   ]
  },
  {
   "cell_type": "code",
   "execution_count": 86,
   "metadata": {},
   "outputs": [],
   "source": [
    "def eval(x,y,model):\n",
    "    pred = model.predict(x)\n",
    "    y_alt=y.values.reshape((-1,1))\n",
    "    print(\"Acc: {:.3f}\".format((pred == y_alt).mean()))\n",
    "    print(\"MSE: {:.3f}\".format(mse(pred,y,squared=False)))   \n",
    "    print(\"Classified {:.3f}% as sick, where the in the true data {:} where sick.\".format(100*(pred>0).sum()/len(pred),(y.values>0).sum()))"
   ]
  },
  {
   "cell_type": "code",
   "execution_count": 4,
   "metadata": {},
   "outputs": [],
   "source": [
    "#במידה וקופצת אזהרה\n",
    "#pd.options.mode.chained_assignment = None  \n",
    "# default='warn'"
   ]
  },
  {
   "cell_type": "markdown",
   "metadata": {},
   "source": [
    "### פונקציה שמראה את חשיבות הפיצרים, יותר גדול יותר טוב"
   ]
  },
  {
   "cell_type": "code",
   "execution_count": null,
   "metadata": {},
   "outputs": [],
   "source": [
    "# dt.feature_importances_\n",
    "# feature_importances = pd.DataFrame(dt.feature_importances_,\n",
    "#                                    index = iris_df.columns[:4],\n",
    "#                                     columns=['importance']).sort_values('importance',\n",
    "#                                                                         ascending=False)\n",
    "# feature_importances.head()"
   ]
  },
  {
   "cell_type": "markdown",
   "metadata": {},
   "source": [
    "### חיתוך ושמירה של דטה פריים לפי ערך מסוים בעמודה \n"
   ]
  },
  {
   "cell_type": "code",
   "execution_count": 18,
   "metadata": {},
   "outputs": [],
   "source": [
    "# series_df = disney_df[disney_df['type']==\"series\"].reset_index(drop = True)\n",
    "# movie_df = disney_df[disney_df['type']==\"movie\"].reset_index(drop = True)"
   ]
  },
  {
   "cell_type": "markdown",
   "metadata": {},
   "source": [
    "### החלפת ערכים בעמודה מסוימת בערך אחר"
   ]
  },
  {
   "cell_type": "code",
   "execution_count": null,
   "metadata": {},
   "outputs": [],
   "source": [
    "# disney_df['runtime'] = disney_df['runtime'].str.replace('min', '')\n",
    "# disney_df['runtime'] = disney_df['runtime'].str.replace('1 h', '')"
   ]
  },
  {
   "cell_type": "markdown",
   "metadata": {},
   "source": [
    "### שינוי שם לעמודה"
   ]
  },
  {
   "cell_type": "code",
   "execution_count": null,
   "metadata": {},
   "outputs": [],
   "source": [
    "# disney_df = disney_df.rename(columns= {'runtime':'runtime per min'})"
   ]
  },
  {
   "cell_type": "markdown",
   "metadata": {},
   "source": [
    "### הגדרת עמודה בתור טיפוס אחר, חשוב קודם כל לוודא שאין ערכים ריקים"
   ]
  },
  {
   "cell_type": "code",
   "execution_count": null,
   "metadata": {},
   "outputs": [],
   "source": [
    "# temp_series = temp_series.astype({\"runtime per min\":int})"
   ]
  },
  {
   "cell_type": "markdown",
   "metadata": {},
   "source": [
    "### איחוד בין 2 דטה פריימים"
   ]
  },
  {
   "cell_type": "code",
   "execution_count": null,
   "metadata": {},
   "outputs": [],
   "source": [
    "# disney_df = pd.concat([temp_series,temp_movie])"
   ]
  },
  {
   "cell_type": "markdown",
   "metadata": {},
   "source": [
    "### הפיכה של עמודה לדייטיים , לאחר מכן אפשר להציג רק את החודש/שנה/יום/שעה וכו"
   ]
  },
  {
   "cell_type": "code",
   "execution_count": 22,
   "metadata": {},
   "outputs": [],
   "source": [
    "# b1[\"Date\"] = pd.to_datetime(b1[\"Date\"])\n",
    "# b1['month'] = pd.DatetimeIndex(b1.Date).month\n",
    "# d1 = b1.loc[(b1.month == 9)]\n",
    "# d1[\"Total Bags\"].sum()"
   ]
  },
  {
   "cell_type": "markdown",
   "metadata": {},
   "source": [
    "### מחיקת עמודה"
   ]
  },
  {
   "cell_type": "code",
   "execution_count": 23,
   "metadata": {},
   "outputs": [],
   "source": [
    "# disney_df = disney_df.drop('year', axis=1)"
   ]
  },
  {
   "cell_type": "markdown",
   "metadata": {},
   "source": [
    "### שמירה של עמודה כשנרצה ערכים מספריים מעל גבול מסוים"
   ]
  },
  {
   "cell_type": "code",
   "execution_count": null,
   "metadata": {},
   "outputs": [],
   "source": [
    "# movie_df = movie_df[movie_df[\"broadcast_from_year\"] >= 1985].reset_index(drop = True)"
   ]
  },
  {
   "cell_type": "markdown",
   "metadata": {},
   "source": [
    "### הוצאת ערך מקסימלי מעמודה לפי אינדקס"
   ]
  },
  {
   "cell_type": "code",
   "execution_count": null,
   "metadata": {},
   "outputs": [],
   "source": [
    "# row_name = my_country.daily_vaccinations.idxmax()\n",
    "# my_country.loc[row_name].date\n",
    "\n"
   ]
  },
  {
   "cell_type": "markdown",
   "metadata": {},
   "source": [
    "### הוצאת שורה של ערך מקסימלי לפי עמודה מסוימת"
   ]
  },
  {
   "cell_type": "code",
   "execution_count": null,
   "metadata": {},
   "outputs": [],
   "source": [
    "# inxrow = youtubedata[\"views\"].idxmax()\n",
    "# youtubedata.iloc[[inxrow]][['title', 'publish_time', 'views']]\n"
   ]
  },
  {
   "cell_type": "markdown",
   "metadata": {},
   "source": [
    "### ערכים מיוחדים"
   ]
  },
  {
   "cell_type": "code",
   "execution_count": null,
   "metadata": {},
   "outputs": [],
   "source": [
    "# #סופר את מס הערכים שיש לי בכל עמודה\n",
    "# basketball.count()\n",
    "# #ממוצע\n",
    "# basketball.mean()\n",
    "# #חציון\n",
    "# basketball.median()\n",
    "# #ערך מקסימלי\n",
    "# basketball.max()\n",
    "# #ערך מינמלי\n",
    "# basketball.min()\n",
    "# #סטיית תקן\n",
    "# basketball.std()"
   ]
  },
  {
   "cell_type": "markdown",
   "metadata": {},
   "source": [
    "### הוצאת שורה ספציפית"
   ]
  },
  {
   "cell_type": "code",
   "execution_count": null,
   "metadata": {},
   "outputs": [],
   "source": [
    "# basketball['Team'][25]\n",
    "# basketball.Team[25]"
   ]
  },
  {
   "cell_type": "markdown",
   "metadata": {},
   "source": [
    "### שורה ועמודה ספציפית"
   ]
  },
  {
   "cell_type": "code",
   "execution_count": null,
   "metadata": {},
   "outputs": [],
   "source": [
    "#כאשר אני רוצה לבחור שורה מסוימת בתוך הטבלה\n",
    "#נקודתיים זה טווח ופסיק מפריד בין שורות לעמודות שורות זה ראשון\n",
    "basketball.iloc[0:3,0:3]\n",
    "#בחירת שורות ועמודות ספציפיות\n",
    "basketball.iloc[[0,3,5],[3,5,7]]"
   ]
  },
  {
   "cell_type": "markdown",
   "metadata": {},
   "source": [
    "###    כאשר אני רוצה לגשת לערך מסוים בעמודה שיש לי אני מפעיל את הפונקציה על העמודה ומשווה עם מה שאני רוצה לקבל\n"
   ]
  },
  {
   "cell_type": "code",
   "execution_count": null,
   "metadata": {},
   "outputs": [],
   "source": [
    "#לקרוא לשורות ביחס לעמודות\n",
    "basketball.loc[:,['Height']]\n",
    "#כאשר אני רוצה לגשת לערך מסוים בעמודה שיש לי אני מפעיל את הפונקציה על העמודה ומשווה עם מה שאני רוצה לקבל\n",
    "a=basketball[basketball.loc[:,'Team']== 'Utah Jazz']\n",
    "a "
   ]
  },
  {
   "cell_type": "markdown",
   "metadata": {},
   "source": [
    "### 2 תנאים ביחד/בנפרד"
   ]
  },
  {
   "cell_type": "code",
   "execution_count": null,
   "metadata": {},
   "outputs": [],
   "source": [
    "#הסימן אומר או שייקח את 2 התנאים שיש כאן \n",
    "x=basketball[(basketball['Team'] == 'Utah Jazz') | (basketball['Team']=='Boston Celtics')]\n",
    "x\n",
    "#הסימן אומר וגם שחייב שיתקיימו שתי התנאים יחדיו\n",
    "b=basketball[(basketball['Team'] == 'Utah Jazz') & (basketball['Position']=='SF')]\n",
    "b"
   ]
  },
  {
   "cell_type": "markdown",
   "metadata": {},
   "source": [
    "### שימוש בלוגים בגרף"
   ]
  },
  {
   "cell_type": "code",
   "execution_count": null,
   "metadata": {},
   "outputs": [],
   "source": [
    "# ax= sns.histplot(data=data['total_sold'])\n",
    "# ax.set_yscale('log')"
   ]
  },
  {
   "cell_type": "code",
   "execution_count": null,
   "metadata": {},
   "outputs": [],
   "source": [
    "# data.hist('total_sold',log= True)"
   ]
  },
  {
   "cell_type": "markdown",
   "metadata": {},
   "source": [
    "### ממוצע הרמוני"
   ]
  },
  {
   "cell_type": "code",
   "execution_count": 5,
   "metadata": {},
   "outputs": [],
   "source": [
    "# from scipy import stats\n",
    "# stats.hmean(without_zero_and_nan.loc[:,'people_vaccinated_per_hundred'])"
   ]
  },
  {
   "cell_type": "code",
   "execution_count": null,
   "metadata": {},
   "outputs": [],
   "source": []
  }
 ],
 "metadata": {
  "kernelspec": {
   "display_name": "Python 3",
   "language": "python",
   "name": "python3"
  },
  "language_info": {
   "codemirror_mode": {
    "name": "ipython",
    "version": 3
   },
   "file_extension": ".py",
   "mimetype": "text/x-python",
   "name": "python",
   "nbconvert_exporter": "python",
   "pygments_lexer": "ipython3",
   "version": "3.8.3"
  }
 },
 "nbformat": 4,
 "nbformat_minor": 4
}
